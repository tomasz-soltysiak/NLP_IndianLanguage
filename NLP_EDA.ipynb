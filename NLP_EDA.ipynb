{
  "nbformat": 4,
  "nbformat_minor": 0,
  "metadata": {
    "colab": {
      "name": "NLP.ipynb",
      "provenance": [],
      "include_colab_link": true
    },
    "kernelspec": {
      "name": "python3",
      "display_name": "Python 3"
    }
  },
  "cells": [
    {
      "cell_type": "markdown",
      "metadata": {
        "id": "view-in-github",
        "colab_type": "text"
      },
      "source": [
        "<a href=\"https://colab.research.google.com/github/tomasz-soltysiak/NLP_IndianLanguage/blob/master/NLP_EDA.ipynb\" target=\"_parent\"><img src=\"https://colab.research.google.com/assets/colab-badge.svg\" alt=\"Open In Colab\"/></a>"
      ]
    },
    {
      "cell_type": "code",
      "metadata": {
        "id": "inPx-gLmgRBC",
        "colab_type": "code",
        "colab": {}
      },
      "source": [
        "import matplotlib.patches as mpatches\n",
        "import pandas as pd\n",
        "import matplotlib.pyplot as plt\n",
        "import seaborn as sns\n",
        "import numpy as np\n",
        "from sklearn.preprocessing import RobustScaler, StandardScaler\n",
        "from sklearn.model_selection import train_test_split,StratifiedKFold\n",
        "from sklearn.manifold import TSNE\n",
        "from sklearn.cluster import KMeans\n",
        "from sklearn.decomposition import PCA\n",
        "from sklearn.linear_model import LogisticRegression\n",
        "from sklearn.model_selection import cross_val_score\n",
        "from sklearn.metrics import recall_score, precision_score, f1_score, accuracy_score,roc_curve,confusion_matrix,roc_auc_score\n",
        "from sklearn.ensemble import RandomForestClassifier\n",
        "from sklearn.neighbors import KNeighborsClassifier\n"
      ],
      "execution_count": 0,
      "outputs": []
    },
    {
      "cell_type": "code",
      "metadata": {
        "id": "rjnO1Lnagz4Z",
        "colab_type": "code",
        "outputId": "4ec992e9-fc7a-45ce-d2ee-d9c253703c3e",
        "colab": {
          "base_uri": "https://localhost:8080/",
          "height": 195
        }
      },
      "source": [
        "df1_movie_reviews=pd.read_csv('/content/tamil_movie_reviews_test.csv',delimiter=',')\n",
        "df1_movie_reviews.head()"
      ],
      "execution_count": 3,
      "outputs": [
        {
          "output_type": "execute_result",
          "data": {
            "text/html": [
              "<div>\n",
              "<style scoped>\n",
              "    .dataframe tbody tr th:only-of-type {\n",
              "        vertical-align: middle;\n",
              "    }\n",
              "\n",
              "    .dataframe tbody tr th {\n",
              "        vertical-align: top;\n",
              "    }\n",
              "\n",
              "    .dataframe thead th {\n",
              "        text-align: right;\n",
              "    }\n",
              "</style>\n",
              "<table border=\"1\" class=\"dataframe\">\n",
              "  <thead>\n",
              "    <tr style=\"text-align: right;\">\n",
              "      <th></th>\n",
              "      <th>ReviewId</th>\n",
              "      <th>ReviewInTamil</th>\n",
              "      <th>Rating</th>\n",
              "    </tr>\n",
              "  </thead>\n",
              "  <tbody>\n",
              "    <tr>\n",
              "      <th>0</th>\n",
              "      <td>521</td>\n",
              "      <td>லாரன்ஸுக்கும் பேய்க்கும் எப்போதும் ஒரு வெற்றி ...</td>\n",
              "      <td>2.75</td>\n",
              "    </tr>\n",
              "    <tr>\n",
              "      <th>1</th>\n",
              "      <td>266</td>\n",
              "      <td>கரு : இன்றைய சூழலில் சமூக வலைதளங்களால் சமூகத்த...</td>\n",
              "      <td>2.00</td>\n",
              "    </tr>\n",
              "    <tr>\n",
              "      <th>2</th>\n",
              "      <td>127</td>\n",
              "      <td>கதை: வசதியற்ற சாதாரண குடும்பத்தை சேர்ந்த நாயகர...</td>\n",
              "      <td>2.00</td>\n",
              "    </tr>\n",
              "    <tr>\n",
              "      <th>3</th>\n",
              "      <td>528</td>\n",
              "      <td>தமிழ் சினிமாவில் இயக்குனர்களுக்காக ஒரு சிலர் ப...</td>\n",
              "      <td>2.00</td>\n",
              "    </tr>\n",
              "    <tr>\n",
              "      <th>4</th>\n",
              "      <td>260</td>\n",
              "      <td>கரு : 'வேலையில்லா பட்டதாரி' படத்தின் பகுதி - 2...</td>\n",
              "      <td>2.50</td>\n",
              "    </tr>\n",
              "  </tbody>\n",
              "</table>\n",
              "</div>"
            ],
            "text/plain": [
              "   ReviewId                                      ReviewInTamil  Rating\n",
              "0       521  லாரன்ஸுக்கும் பேய்க்கும் எப்போதும் ஒரு வெற்றி ...    2.75\n",
              "1       266  கரு : இன்றைய சூழலில் சமூக வலைதளங்களால் சமூகத்த...    2.00\n",
              "2       127  கதை: வசதியற்ற சாதாரண குடும்பத்தை சேர்ந்த நாயகர...    2.00\n",
              "3       528  தமிழ் சினிமாவில் இயக்குனர்களுக்காக ஒரு சிலர் ப...    2.00\n",
              "4       260  கரு : 'வேலையில்லா பட்டதாரி' படத்தின் பகுதி - 2...    2.50"
            ]
          },
          "metadata": {
            "tags": []
          },
          "execution_count": 3
        }
      ]
    },
    {
      "cell_type": "markdown",
      "metadata": {
        "id": "zb-9szCMdW1-",
        "colab_type": "text"
      },
      "source": [
        "Let's see simple features of rating."
      ]
    },
    {
      "cell_type": "code",
      "metadata": {
        "id": "SdJt6eJKda1F",
        "colab_type": "code",
        "colab": {
          "base_uri": "https://localhost:8080/",
          "height": 296
        },
        "outputId": "8fcdaf24-33ff-43cb-faaf-bb03e0483ca9"
      },
      "source": [
        "rate=df1_movie_reviews['Rating']\n",
        "sns.distplot(rate)"
      ],
      "execution_count": 6,
      "outputs": [
        {
          "output_type": "execute_result",
          "data": {
            "text/plain": [
              "<matplotlib.axes._subplots.AxesSubplot at 0x7f3916b9de80>"
            ]
          },
          "metadata": {
            "tags": []
          },
          "execution_count": 6
        },
        {
          "output_type": "display_data",
          "data": {
            "image/png": "[encoded data removed]",
            "text/plain": [
              "<Figure size 432x288 with 1 Axes>"
            ]
          },
          "metadata": {
            "tags": []
          }
        }
      ]
    },
    {
      "cell_type": "code",
      "metadata": {
        "id": "CwzuSdqFd_L7",
        "colab_type": "code",
        "colab": {
          "base_uri": "https://localhost:8080/",
          "height": 297
        },
        "outputId": "cd812399-b60b-47e8-aa27-091e31339663"
      },
      "source": [
        "sns.countplot(rate)"
      ],
      "execution_count": 7,
      "outputs": [
        {
          "output_type": "execute_result",
          "data": {
            "text/plain": [
              "<matplotlib.axes._subplots.AxesSubplot at 0x7f3914decc50>"
            ]
          },
          "metadata": {
            "tags": []
          },
          "execution_count": 7
        },
        {
          "output_type": "display_data",
          "data": {
            "image/png": "[encoded data removed]",
            "text/plain": [
              "<Figure size 432x288 with 1 Axes>"
            ]
          },
          "metadata": {
            "tags": []
          }
        }
      ]
    },
    {
      "cell_type": "code",
      "metadata": {
        "id": "GsecEyFIePZA",
        "colab_type": "code",
        "colab": {
          "base_uri": "https://localhost:8080/",
          "height": 296
        },
        "outputId": "da62870d-0406-4957-acbb-f9fc05297b22"
      },
      "source": [
        "sns.boxplot(rate)"
      ],
      "execution_count": 10,
      "outputs": [
        {
          "output_type": "execute_result",
          "data": {
            "text/plain": [
              "<matplotlib.axes._subplots.AxesSubplot at 0x7f3914d52860>"
            ]
          },
          "metadata": {
            "tags": []
          },
          "execution_count": 10
        },
        {
          "output_type": "display_data",
          "data": {
            "image/png": "[encoded data removed]",
            "text/plain": [
              "<Figure size 432x288 with 1 Axes>"
            ]
          },
          "metadata": {
            "tags": []
          }
        }
      ]
    },
    {
      "cell_type": "markdown",
      "metadata": {
        "id": "5-eq2F6edcME",
        "colab_type": "text"
      },
      "source": [
        "Then focus on NLP."
      ]
    },
    {
      "cell_type": "code",
      "metadata": {
        "id": "-jOHnWxSiZre",
        "colab_type": "code",
        "colab": {
          "base_uri": "https://localhost:8080/",
          "height": 218
        },
        "outputId": "b18e2dfa-7af3-4a37-f2cd-804ecdfdfb03"
      },
      "source": [
        "opinion=df1_movie_reviews['ReviewInTamil']\n",
        "opinion"
      ],
      "execution_count": 5,
      "outputs": [
        {
          "output_type": "execute_result",
          "data": {
            "text/plain": [
              "0      லாரன்ஸுக்கும் பேய்க்கும் எப்போதும் ஒரு வெற்றி ...\n",
              "1      கரு : இன்றைய சூழலில் சமூக வலைதளங்களால் சமூகத்த...\n",
              "2      கதை: வசதியற்ற சாதாரண குடும்பத்தை சேர்ந்த நாயகர...\n",
              "3      தமிழ் சினிமாவில் இயக்குனர்களுக்காக ஒரு சிலர் ப...\n",
              "4      கரு : 'வேலையில்லா பட்டதாரி' படத்தின் பகுதி - 2...\n",
              "                             ...                        \n",
              "116    விக்ரம் பிரபு ஒரு வெற்றி கொடுத்தே ஆகவேண்டும் எ...\n",
              "117    தளபதி விஜய் மற்றும் முருகதாஸ் கூட்டணி மீண்டும்...\n",
              "118    Read Adhe Kangal Review in English<NEWLINE>தமி...\n",
              "119    கரு : வாழ்க்கையில் எதுவேண்டுமனாலும் நடக்கலாம்,...\n",
              "120    கரு: ஊக்க மருந்தால் உலகத்தை ஆள நினைக்கும் வில்...\n",
              "Name: ReviewInTamil, Length: 121, dtype: object"
            ]
          },
          "metadata": {
            "tags": []
          },
          "execution_count": 5
        }
      ]
    },
    {
      "cell_type": "markdown",
      "metadata": {
        "id": "brr9K2hPcJ6N",
        "colab_type": "text"
      },
      "source": [
        "Let's start having some tasks with text."
      ]
    },
    {
      "cell_type": "code",
      "metadata": {
        "id": "ur7vq4pWiaR_",
        "colab_type": "code",
        "colab": {}
      },
      "source": [
        ""
      ],
      "execution_count": 0,
      "outputs": []
    }
  ]
}