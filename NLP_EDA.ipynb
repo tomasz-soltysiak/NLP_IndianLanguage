{
  "nbformat": 4,
  "nbformat_minor": 0,
  "metadata": {
    "colab": {
      "name": "NLP.ipynb",
      "provenance": [],
      "include_colab_link": true
    },
    "kernelspec": {
      "name": "python3",
      "display_name": "Python 3"
    }
  },
  "cells": [
    {
      "cell_type": "markdown",
      "metadata": {
        "id": "view-in-github",
        "colab_type": "text"
      },
      "source": [
        "<a href=\"https://colab.research.google.com/github/tomasz-soltysiak/NLP_IndianLanguage/blob/master/NLP_EDA.ipynb\" target=\"_parent\"><img src=\"https://colab.research.google.com/assets/colab-badge.svg\" alt=\"Open In Colab\"/></a>"
      ]
    },
    {
      "cell_type": "code",
      "metadata": {
        "id": "inPx-gLmgRBC",
        "colab_type": "code",
        "colab": {}
      },
      "source": [
        "import matplotlib.patches as mpatches\n",
        "import pandas as pd\n",
        "import matplotlib.pyplot as plt\n",
        "import seaborn as sns\n",
        "import numpy as np\n",
        "from sklearn.preprocessing import RobustScaler, StandardScaler\n",
        "from sklearn.model_selection import train_test_split,StratifiedKFold\n",
        "from sklearn.manifold import TSNE\n",
        "from sklearn.cluster import KMeans\n",
        "from sklearn.decomposition import PCA\n",
        "from sklearn.linear_model import LogisticRegression, LinearRegression\n",
        "from sklearn.model_selection import cross_val_score\n",
        "from sklearn.metrics import recall_score, precision_score, f1_score, accuracy_score,roc_curve,confusion_matrix,roc_auc_score\n",
        "from sklearn.ensemble import RandomForestClassifier\n",
        "from sklearn.neighbors import KNeighborsClassifier\n",
        "from sklearn.feature_extraction.text import CountVectorizer\n"
      ],
      "execution_count": 0,
      "outputs": []
    },
    {
      "cell_type": "code",
      "metadata": {
        "id": "rjnO1Lnagz4Z",
        "colab_type": "code",
        "outputId": "f0c91ca9-3455-4db5-8683-74e3e4bebb64",
        "colab": {
          "base_uri": "https://localhost:8080/",
          "height": 195
        }
      },
      "source": [
        "df1_movie_reviews=pd.read_csv('/content/tamil_movie_reviews_train.csv',delimiter=',')\n",
        "df1_movie_reviews.head()"
      ],
      "execution_count": 33,
      "outputs": [
        {
          "output_type": "execute_result",
          "data": {
            "text/html": [
              "<div>\n",
              "<style scoped>\n",
              "    .dataframe tbody tr th:only-of-type {\n",
              "        vertical-align: middle;\n",
              "    }\n",
              "\n",
              "    .dataframe tbody tr th {\n",
              "        vertical-align: top;\n",
              "    }\n",
              "\n",
              "    .dataframe thead th {\n",
              "        text-align: right;\n",
              "    }\n",
              "</style>\n",
              "<table border=\"1\" class=\"dataframe\">\n",
              "  <thead>\n",
              "    <tr style=\"text-align: right;\">\n",
              "      <th></th>\n",
              "      <th>ReviewId</th>\n",
              "      <th>ReviewInTamil</th>\n",
              "      <th>Rating</th>\n",
              "    </tr>\n",
              "  </thead>\n",
              "  <tbody>\n",
              "    <tr>\n",
              "      <th>0</th>\n",
              "      <td>408</td>\n",
              "      <td>தமிழ் சினிமாவில் ஒரு சிலர் மட்டுமே பணம், பிஸின...</td>\n",
              "      <td>4.00</td>\n",
              "    </tr>\n",
              "    <tr>\n",
              "      <th>1</th>\n",
              "      <td>107</td>\n",
              "      <td>கரு : சினிமா படப்பிடிப்புகளில் வெளிச்சம் பாய்ச...</td>\n",
              "      <td>2.00</td>\n",
              "    </tr>\n",
              "    <tr>\n",
              "      <th>2</th>\n",
              "      <td>319</td>\n",
              "      <td>தமிழ் சினிமாவில் தற்போது நாயகர்களுக்கு இணையாக ...</td>\n",
              "      <td>3.25</td>\n",
              "    </tr>\n",
              "    <tr>\n",
              "      <th>3</th>\n",
              "      <td>484</td>\n",
              "      <td>உலக அளவில் அனைத்து தரப்பினரையும் தன் நடிப்பால்...</td>\n",
              "      <td>2.25</td>\n",
              "    </tr>\n",
              "    <tr>\n",
              "      <th>4</th>\n",
              "      <td>204</td>\n",
              "      <td>கரு : வில்லனின் கையாள் , வில்லன் செய்த நம்பிக்...</td>\n",
              "      <td>3.00</td>\n",
              "    </tr>\n",
              "  </tbody>\n",
              "</table>\n",
              "</div>"
            ],
            "text/plain": [
              "   ReviewId                                      ReviewInTamil  Rating\n",
              "0       408  தமிழ் சினிமாவில் ஒரு சிலர் மட்டுமே பணம், பிஸின...    4.00\n",
              "1       107  கரு : சினிமா படப்பிடிப்புகளில் வெளிச்சம் பாய்ச...    2.00\n",
              "2       319  தமிழ் சினிமாவில் தற்போது நாயகர்களுக்கு இணையாக ...    3.25\n",
              "3       484  உலக அளவில் அனைத்து தரப்பினரையும் தன் நடிப்பால்...    2.25\n",
              "4       204  கரு : வில்லனின் கையாள் , வில்லன் செய்த நம்பிக்...    3.00"
            ]
          },
          "metadata": {
            "tags": []
          },
          "execution_count": 33
        }
      ]
    },
    {
      "cell_type": "markdown",
      "metadata": {
        "id": "zb-9szCMdW1-",
        "colab_type": "text"
      },
      "source": [
        "Let's see simple features of rating."
      ]
    },
    {
      "cell_type": "code",
      "metadata": {
        "id": "SdJt6eJKda1F",
        "colab_type": "code",
        "outputId": "a192a80e-6b3d-4275-c5b3-d29e4edb17e1",
        "colab": {
          "base_uri": "https://localhost:8080/",
          "height": 296
        }
      },
      "source": [
        "rate=df1_movie_reviews['Rating']\n",
        "sns.distplot(rate)"
      ],
      "execution_count": 34,
      "outputs": [
        {
          "output_type": "execute_result",
          "data": {
            "text/plain": [
              "<matplotlib.axes._subplots.AxesSubplot at 0x7f77d658ff98>"
            ]
          },
          "metadata": {
            "tags": []
          },
          "execution_count": 34
        },
        {
          "output_type": "display_data",
          "data": {
            "image/png": "[encoded data removed]",
            "text/plain": [
              "<Figure size 432x288 with 1 Axes>"
            ]
          },
          "metadata": {
            "tags": []
          }
        }
      ]
    },
    {
      "cell_type": "code",
      "metadata": {
        "id": "CwzuSdqFd_L7",
        "colab_type": "code",
        "outputId": "7e162bcd-3572-4f19-e15d-bdf4a471f4f4",
        "colab": {
          "base_uri": "https://localhost:8080/",
          "height": 296
        }
      },
      "source": [
        "sns.countplot(rate)"
      ],
      "execution_count": 35,
      "outputs": [
        {
          "output_type": "execute_result",
          "data": {
            "text/plain": [
              "<matplotlib.axes._subplots.AxesSubplot at 0x7f77d6438978>"
            ]
          },
          "metadata": {
            "tags": []
          },
          "execution_count": 35
        },
        {
          "output_type": "display_data",
          "data": {
            "image/png": "[encoded data removed]",
            "text/plain": [
              "<Figure size 432x288 with 1 Axes>"
            ]
          },
          "metadata": {
            "tags": []
          }
        }
      ]
    },
    {
      "cell_type": "code",
      "metadata": {
        "id": "GsecEyFIePZA",
        "colab_type": "code",
        "outputId": "016e881d-3dc9-4da3-ba30-55c6030dcbb9",
        "colab": {
          "base_uri": "https://localhost:8080/",
          "height": 296
        }
      },
      "source": [
        "sns.boxplot(rate)"
      ],
      "execution_count": 36,
      "outputs": [
        {
          "output_type": "execute_result",
          "data": {
            "text/plain": [
              "<matplotlib.axes._subplots.AxesSubplot at 0x7f77d643fba8>"
            ]
          },
          "metadata": {
            "tags": []
          },
          "execution_count": 36
        },
        {
          "output_type": "display_data",
          "data": {
            "image/png": "[encoded data removed]",
            "text/plain": [
              "<Figure size 432x288 with 1 Axes>"
            ]
          },
          "metadata": {
            "tags": []
          }
        }
      ]
    },
    {
      "cell_type": "markdown",
      "metadata": {
        "id": "5-eq2F6edcME",
        "colab_type": "text"
      },
      "source": [
        "Then focus on NLP."
      ]
    },
    {
      "cell_type": "code",
      "metadata": {
        "id": "-jOHnWxSiZre",
        "colab_type": "code",
        "colab": {}
      },
      "source": [
        "opinion=df1_movie_reviews['ReviewInTamil']\n",
        "opinion=list(opinion)\n"
      ],
      "execution_count": 0,
      "outputs": []
    },
    {
      "cell_type": "markdown",
      "metadata": {
        "id": "brr9K2hPcJ6N",
        "colab_type": "text"
      },
      "source": [
        "Let's start having some tasks with text."
      ]
    },
    {
      "cell_type": "code",
      "metadata": {
        "id": "ur7vq4pWiaR_",
        "colab_type": "code",
        "colab": {}
      },
      "source": [
        "#Let's start with word steeming\n",
        "from nltk.stem.porter import PorterStemmer\n",
        "\n",
        "porter=PorterStemmer()\n",
        "opinion=[porter.stem(word) for word in opinion]\n",
        "\n",
        "\n"
      ],
      "execution_count": 0,
      "outputs": []
    },
    {
      "cell_type": "code",
      "metadata": {
        "id": "L0vaAReS_64F",
        "colab_type": "code",
        "colab": {}
      },
      "source": [
        "# W will remove whole punctuation\n",
        "import unicodedata,sys\n",
        "\n",
        "punctuation=dict.fromkeys(i for i in range(sys.maxunicode) if unicodedata.category(chr(i)).startswith('P'))\n",
        "opinion=[o.translate(punctuation) for o in opinion]"
      ],
      "execution_count": 0,
      "outputs": []
    },
    {
      "cell_type": "markdown",
      "metadata": {
        "id": "JLfLljCoMFop",
        "colab_type": "text"
      },
      "source": [
        "Let's encode words in our list."
      ]
    },
    {
      "cell_type": "markdown",
      "metadata": {
        "id": "bc_MFA-bQINO",
        "colab_type": "text"
      },
      "source": [
        "No I am gonna create df2 with encoded text"
      ]
    },
    {
      "cell_type": "code",
      "metadata": {
        "id": "toxLPrPgPoTC",
        "colab_type": "code",
        "outputId": "515e73e1-feb0-47f2-8877-7ecdc51aea74",
        "colab": {
          "base_uri": "https://localhost:8080/",
          "height": 195
        }
      },
      "source": [
        "df2=df1_movie_reviews\n",
        "df2['ReviewInTamil']=opinion\n",
        "df2.head()"
      ],
      "execution_count": 59,
      "outputs": [
        {
          "output_type": "execute_result",
          "data": {
            "text/html": [
              "<div>\n",
              "<style scoped>\n",
              "    .dataframe tbody tr th:only-of-type {\n",
              "        vertical-align: middle;\n",
              "    }\n",
              "\n",
              "    .dataframe tbody tr th {\n",
              "        vertical-align: top;\n",
              "    }\n",
              "\n",
              "    .dataframe thead th {\n",
              "        text-align: right;\n",
              "    }\n",
              "</style>\n",
              "<table border=\"1\" class=\"dataframe\">\n",
              "  <thead>\n",
              "    <tr style=\"text-align: right;\">\n",
              "      <th></th>\n",
              "      <th>ReviewId</th>\n",
              "      <th>ReviewInTamil</th>\n",
              "      <th>Rating</th>\n",
              "      <th>coding</th>\n",
              "    </tr>\n",
              "  </thead>\n",
              "  <tbody>\n",
              "    <tr>\n",
              "      <th>0</th>\n",
              "      <td>408</td>\n",
              "      <td>தமிழ் சினிமாவில் ஒரு சிலர் மட்டுமே பணம் பிஸினஸ...</td>\n",
              "      <td>4.00</td>\n",
              "      <td>1</td>\n",
              "    </tr>\n",
              "    <tr>\n",
              "      <th>1</th>\n",
              "      <td>107</td>\n",
              "      <td>கரு  சினிமா படப்பிடிப்புகளில் வெளிச்சம் பாய்ச்...</td>\n",
              "      <td>2.00</td>\n",
              "      <td>0</td>\n",
              "    </tr>\n",
              "    <tr>\n",
              "      <th>2</th>\n",
              "      <td>319</td>\n",
              "      <td>தமிழ் சினிமாவில் தற்போது நாயகர்களுக்கு இணையாக ...</td>\n",
              "      <td>3.25</td>\n",
              "      <td>0</td>\n",
              "    </tr>\n",
              "    <tr>\n",
              "      <th>3</th>\n",
              "      <td>484</td>\n",
              "      <td>உலக அளவில் அனைத்து தரப்பினரையும் தன் நடிப்பால்...</td>\n",
              "      <td>2.25</td>\n",
              "      <td>0</td>\n",
              "    </tr>\n",
              "    <tr>\n",
              "      <th>4</th>\n",
              "      <td>204</td>\n",
              "      <td>கரு  வில்லனின் கையாள்  வில்லன் செய்த நம்பிக்கை...</td>\n",
              "      <td>3.00</td>\n",
              "      <td>0</td>\n",
              "    </tr>\n",
              "  </tbody>\n",
              "</table>\n",
              "</div>"
            ],
            "text/plain": [
              "   ReviewId                                      ReviewInTamil  Rating  coding\n",
              "0       408  தமிழ் சினிமாவில் ஒரு சிலர் மட்டுமே பணம் பிஸினஸ...    4.00       1\n",
              "1       107  கரு  சினிமா படப்பிடிப்புகளில் வெளிச்சம் பாய்ச்...    2.00       0\n",
              "2       319  தமிழ் சினிமாவில் தற்போது நாயகர்களுக்கு இணையாக ...    3.25       0\n",
              "3       484  உலக அளவில் அனைத்து தரப்பினரையும் தன் நடிப்பால்...    2.25       0\n",
              "4       204  கரு  வில்லனின் கையாள்  வில்லன் செய்த நம்பிக்கை...    3.00       0"
            ]
          },
          "metadata": {
            "tags": []
          },
          "execution_count": 59
        }
      ]
    },
    {
      "cell_type": "code",
      "metadata": {
        "id": "YG49zz9bQyjS",
        "colab_type": "code",
        "outputId": "758ce499-1fb4-4ab2-87c9-c25d68f7e568",
        "colab": {
          "base_uri": "https://localhost:8080/",
          "height": 168
        }
      },
      "source": [
        "df2.info()"
      ],
      "execution_count": 53,
      "outputs": [
        {
          "output_type": "stream",
          "text": [
            "<class 'pandas.core.frame.DataFrame'>\n",
            "RangeIndex: 480 entries, 0 to 479\n",
            "Data columns (total 4 columns):\n",
            "ReviewId         480 non-null int64\n",
            "ReviewInTamil    480 non-null object\n",
            "Rating           480 non-null float64\n",
            "coding           480 non-null int64\n",
            "dtypes: float64(1), int64(2), object(1)\n",
            "memory usage: 15.1+ KB\n"
          ],
          "name": "stdout"
        }
      ]
    },
    {
      "cell_type": "code",
      "metadata": {
        "id": "HLDcpUCjSOiV",
        "colab_type": "code",
        "colab": {}
      },
      "source": [
        "#df2.to_csv('Tamil_movie_reviews_train2.csv')"
      ],
      "execution_count": 0,
      "outputs": []
    },
    {
      "cell_type": "code",
      "metadata": {
        "id": "HFWNeBOVo0IH",
        "colab_type": "code",
        "colab": {}
      },
      "source": [
        ""
      ],
      "execution_count": 0,
      "outputs": []
    },
    {
      "cell_type": "code",
      "metadata": {
        "id": "JwPEiiKs1adV",
        "colab_type": "code",
        "colab": {}
      },
      "source": [
        ""
      ],
      "execution_count": 0,
      "outputs": []
    }
  ]
}