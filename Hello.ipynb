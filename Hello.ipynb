{
  "nbformat": 4,
  "nbformat_minor": 0,
  "metadata": {
    "colab": {
      "name": "NLP.ipynb",
      "provenance": [],
      "include_colab_link": true
    },
    "kernelspec": {
      "name": "python3",
      "display_name": "Python 3"
    }
  },
  "cells": [
    {
      "cell_type": "markdown",
      "metadata": {
        "id": "view-in-github",
        "colab_type": "text"
      },
      "source": [
        "<a href=\"https://colab.research.google.com/github/tomasz-soltysiak/NLP_IndianLanguage/blob/master/Hello.ipynb\" target=\"_parent\"><img src=\"https://colab.research.google.com/assets/colab-badge.svg\" alt=\"Open In Colab\"/></a>"
      ]
    },
    {
      "cell_type": "code",
      "metadata": {
        "id": "inPx-gLmgRBC",
        "colab_type": "code",
        "colab": {}
      },
      "source": [
        "import matplotlib.patches as mpatches\n",
        "import pandas as pd\n",
        "import matplotlib.pyplot as plt\n",
        "import seaborn as sns\n",
        "import numpy as np\n",
        "from sklearn.preprocessing import RobustScaler, StandardScaler\n",
        "from sklearn.model_selection import train_test_split,StratifiedKFold\n",
        "from sklearn.manifold import TSNE\n",
        "from sklearn.cluster import KMeans\n",
        "from sklearn.decomposition import PCA\n",
        "from sklearn.linear_model import LogisticRegression\n",
        "from sklearn.model_selection import cross_val_score\n",
        "from sklearn.metrics import recall_score, precision_score, f1_score, accuracy_score,roc_curve,confusion_matrix,roc_auc_score\n",
        "from sklearn.ensemble import RandomForestClassifier\n",
        "from sklearn.neighbors import KNeighborsClassifier\n"
      ],
      "execution_count": 0,
      "outputs": []
    },
    {
      "cell_type": "code",
      "metadata": {
        "id": "rjnO1Lnagz4Z",
        "colab_type": "code",
        "outputId": "43d8bfd0-99a6-4bbd-d1b3-99d671222f84",
        "colab": {
          "base_uri": "https://localhost:8080/",
          "height": 195
        }
      },
      "source": [
        "  df1_movie_reviews=pd.read_csv('/content/tamil_movie_reviews_test.csv',delimiter=',')\n",
        "df1.head()"
      ],
      "execution_count": 0,
      "outputs": [
        {
          "output_type": "execute_result",
          "data": {
            "text/html": [
              "<div>\n",
              "<style scoped>\n",
              "    .dataframe tbody tr th:only-of-type {\n",
              "        vertical-align: middle;\n",
              "    }\n",
              "\n",
              "    .dataframe tbody tr th {\n",
              "        vertical-align: top;\n",
              "    }\n",
              "\n",
              "    .dataframe thead th {\n",
              "        text-align: right;\n",
              "    }\n",
              "</style>\n",
              "<table border=\"1\" class=\"dataframe\">\n",
              "  <thead>\n",
              "    <tr style=\"text-align: right;\">\n",
              "      <th></th>\n",
              "      <th>ReviewId</th>\n",
              "      <th>ReviewInTamil</th>\n",
              "      <th>Rating</th>\n",
              "    </tr>\n",
              "  </thead>\n",
              "  <tbody>\n",
              "    <tr>\n",
              "      <th>0</th>\n",
              "      <td>521</td>\n",
              "      <td>லாரன்ஸுக்கும் பேய்க்கும் எப்போதும் ஒரு வெற்றி ...</td>\n",
              "      <td>2.75</td>\n",
              "    </tr>\n",
              "    <tr>\n",
              "      <th>1</th>\n",
              "      <td>266</td>\n",
              "      <td>கரு : இன்றைய சூழலில் சமூக வலைதளங்களால் சமூகத்த...</td>\n",
              "      <td>2.00</td>\n",
              "    </tr>\n",
              "    <tr>\n",
              "      <th>2</th>\n",
              "      <td>127</td>\n",
              "      <td>கதை: வசதியற்ற சாதாரண குடும்பத்தை சேர்ந்த நாயகர...</td>\n",
              "      <td>2.00</td>\n",
              "    </tr>\n",
              "    <tr>\n",
              "      <th>3</th>\n",
              "      <td>528</td>\n",
              "      <td>தமிழ் சினிமாவில் இயக்குனர்களுக்காக ஒரு சிலர் ப...</td>\n",
              "      <td>2.00</td>\n",
              "    </tr>\n",
              "    <tr>\n",
              "      <th>4</th>\n",
              "      <td>260</td>\n",
              "      <td>கரு : 'வேலையில்லா பட்டதாரி' படத்தின் பகுதி - 2...</td>\n",
              "      <td>2.50</td>\n",
              "    </tr>\n",
              "  </tbody>\n",
              "</table>\n",
              "</div>"
            ],
            "text/plain": [
              "   ReviewId                                      ReviewInTamil  Rating\n",
              "0       521  லாரன்ஸுக்கும் பேய்க்கும் எப்போதும் ஒரு வெற்றி ...    2.75\n",
              "1       266  கரு : இன்றைய சூழலில் சமூக வலைதளங்களால் சமூகத்த...    2.00\n",
              "2       127  கதை: வசதியற்ற சாதாரண குடும்பத்தை சேர்ந்த நாயகர...    2.00\n",
              "3       528  தமிழ் சினிமாவில் இயக்குனர்களுக்காக ஒரு சிலர் ப...    2.00\n",
              "4       260  கரு : 'வேலையில்லா பட்டதாரி' படத்தின் பகுதி - 2...    2.50"
            ]
          },
          "metadata": {
            "tags": []
          },
          "execution_count": 4
        }
      ]
    },
    {
      "cell_type": "code",
      "metadata": {
        "id": "-jOHnWxSiZre",
        "colab_type": "code",
        "colab": {}
      },
      "source": [
        "df2_newstrain=pd.read_csv('/content/tamil_movie_reviews_test.csv',delimiter=',')\n",
        "df2_newstrain.head()"
      ],
      "execution_count": 0,
      "outputs": []
    },
    {
      "cell_type": "code",
      "metadata": {
        "id": "ur7vq4pWiaR_",
        "colab_type": "code",
        "colab": {}
      },
      "source": [
        "=pd.read_csv('/content/tamil_movie_reviews_test.csv',delimiter=',')\n",
        "df.head()"
      ],
      "execution_count": 0,
      "outputs": []
    }
  ]
}