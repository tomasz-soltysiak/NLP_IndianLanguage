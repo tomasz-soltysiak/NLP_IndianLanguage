{
  "nbformat": 4,
  "nbformat_minor": 0,
  "metadata": {
    "colab": {
      "name": "NLP_models.ipynb",
      "provenance": [],
      "include_colab_link": true
    },
    "kernelspec": {
      "name": "python3",
      "display_name": "Python 3"
    }
  },
  "cells": [
    {
      "cell_type": "markdown",
      "metadata": {
        "id": "view-in-github",
        "colab_type": "text"
      },
      "source": [
        "<a href=\"https://colab.research.google.com/github/tomasz-soltysiak/NLP_IndianLanguage/blob/master/NLP_Nueral_Network.ipynb\" target=\"_parent\"><img src=\"https://colab.research.google.com/assets/colab-badge.svg\" alt=\"Open In Colab\"/></a>"
      ]
    },
    {
      "cell_type": "code",
      "metadata": {
        "colab_type": "code",
        "id": "5abZVHp7_U_B",
        "colab": {}
      },
      "source": [
        "import matplotlib.patches as mpatches\n",
        "import pandas as pd\n",
        "import matplotlib.pyplot as plt\n",
        "import seaborn as sns\n",
        "import numpy as np\n",
        "from sklearn.preprocessing import RobustScaler, StandardScaler\n",
        "from sklearn.model_selection import train_test_split,StratifiedKFold\n",
        "from sklearn.manifold import TSNE\n",
        "from sklearn.cluster import KMeans\n",
        "from sklearn.decomposition import PCA\n",
        "from sklearn.linear_model import LinearRegression, Lasso\n",
        "from sklearn.model_selection import cross_val_score\n",
        "from sklearn.metrics import recall_score, precision_score, f1_score, accuracy_score,roc_curve,confusion_matrix,roc_auc_score\n",
        "from sklearn.ensemble import RandomForestClassifier\n",
        "from sklearn.neighbors import KNeighborsClassifier\n",
        "import re"
      ],
      "execution_count": 0,
      "outputs": []
    },
    {
      "cell_type": "code",
      "metadata": {
        "id": "HDb5PzMp_XCW",
        "colab_type": "code",
        "colab": {
          "base_uri": "https://localhost:8080/",
          "height": 195
        },
        "outputId": "75d1b643-1694-4060-c5a0-3bfc72592b69"
      },
      "source": [
        "df_train=pd.read_csv('/content/tamil_movie_reviews_train.csv',delimiter=',')\n",
        "df_train.head()"
      ],
      "execution_count": 4,
      "outputs": [
        {
          "output_type": "execute_result",
          "data": {
            "text/html": [
              "<div>\n",
              "<style scoped>\n",
              "    .dataframe tbody tr th:only-of-type {\n",
              "        vertical-align: middle;\n",
              "    }\n",
              "\n",
              "    .dataframe tbody tr th {\n",
              "        vertical-align: top;\n",
              "    }\n",
              "\n",
              "    .dataframe thead th {\n",
              "        text-align: right;\n",
              "    }\n",
              "</style>\n",
              "<table border=\"1\" class=\"dataframe\">\n",
              "  <thead>\n",
              "    <tr style=\"text-align: right;\">\n",
              "      <th></th>\n",
              "      <th>ReviewId</th>\n",
              "      <th>ReviewInTamil</th>\n",
              "      <th>Rating</th>\n",
              "    </tr>\n",
              "  </thead>\n",
              "  <tbody>\n",
              "    <tr>\n",
              "      <th>0</th>\n",
              "      <td>408</td>\n",
              "      <td>தமிழ் சினிமாவில் ஒரு சிலர் மட்டுமே பணம், பிஸின...</td>\n",
              "      <td>4.00</td>\n",
              "    </tr>\n",
              "    <tr>\n",
              "      <th>1</th>\n",
              "      <td>107</td>\n",
              "      <td>கரு : சினிமா படப்பிடிப்புகளில் வெளிச்சம் பாய்ச...</td>\n",
              "      <td>2.00</td>\n",
              "    </tr>\n",
              "    <tr>\n",
              "      <th>2</th>\n",
              "      <td>319</td>\n",
              "      <td>தமிழ் சினிமாவில் தற்போது நாயகர்களுக்கு இணையாக ...</td>\n",
              "      <td>3.25</td>\n",
              "    </tr>\n",
              "    <tr>\n",
              "      <th>3</th>\n",
              "      <td>484</td>\n",
              "      <td>உலக அளவில் அனைத்து தரப்பினரையும் தன் நடிப்பால்...</td>\n",
              "      <td>2.25</td>\n",
              "    </tr>\n",
              "    <tr>\n",
              "      <th>4</th>\n",
              "      <td>204</td>\n",
              "      <td>கரு : வில்லனின் கையாள் , வில்லன் செய்த நம்பிக்...</td>\n",
              "      <td>3.00</td>\n",
              "    </tr>\n",
              "  </tbody>\n",
              "</table>\n",
              "</div>"
            ],
            "text/plain": [
              "   ReviewId                                      ReviewInTamil  Rating\n",
              "0       408  தமிழ் சினிமாவில் ஒரு சிலர் மட்டுமே பணம், பிஸின...    4.00\n",
              "1       107  கரு : சினிமா படப்பிடிப்புகளில் வெளிச்சம் பாய்ச...    2.00\n",
              "2       319  தமிழ் சினிமாவில் தற்போது நாயகர்களுக்கு இணையாக ...    3.25\n",
              "3       484  உலக அளவில் அனைத்து தரப்பினரையும் தன் நடிப்பால்...    2.25\n",
              "4       204  கரு : வில்லனின் கையாள் , வில்லன் செய்த நம்பிக்...    3.00"
            ]
          },
          "metadata": {
            "tags": []
          },
          "execution_count": 4
        }
      ]
    },
    {
      "cell_type": "code",
      "metadata": {
        "id": "7Esf8yDfAGOi",
        "colab_type": "code",
        "colab": {
          "base_uri": "https://localhost:8080/",
          "height": 195
        },
        "outputId": "28fd17c4-8201-4d8f-9d97-fb347ad57e52"
      },
      "source": [
        "import re\n",
        "from nltk.stem import WordNetLemmatizer\n",
        "from nltk.corpus import stopwords\n",
        "from nltk.stem.porter import PorterStemmer\n",
        "#stop_words = set(stopwords.words('')) \n",
        "porter=PorterStemmer()\n",
        "lemmatizer = WordNetLemmatizer()\n",
        "def clean_text(text):\n",
        "    text = re.sub(r'[^\\w\\s]','',text, re.UNICODE)\n",
        "    text = text.lower()\n",
        "    text = [porter.stem(word) for word in text]\n",
        "    #text = [lemmatizer.lemmatize(token) for token in text]\n",
        "    #text = [lemmatizer.lemmatize(token, \"v\") for token in text]\n",
        "    #text = [word for word in text if not word in stop_words]\n",
        "    #text = \" \".join(text)\n",
        "    return text\n",
        "\n",
        "df_train['ReviewInTamil1'] = df_train.ReviewInTamil.apply(lambda x: clean_text(x))\n",
        "df_train.head()\n",
        "\n",
        "\n",
        "\n",
        "\n",
        "\n"
      ],
      "execution_count": 21,
      "outputs": [
        {
          "output_type": "execute_result",
          "data": {
            "text/html": [
              "<div>\n",
              "<style scoped>\n",
              "    .dataframe tbody tr th:only-of-type {\n",
              "        vertical-align: middle;\n",
              "    }\n",
              "\n",
              "    .dataframe tbody tr th {\n",
              "        vertical-align: top;\n",
              "    }\n",
              "\n",
              "    .dataframe thead th {\n",
              "        text-align: right;\n",
              "    }\n",
              "</style>\n",
              "<table border=\"1\" class=\"dataframe\">\n",
              "  <thead>\n",
              "    <tr style=\"text-align: right;\">\n",
              "      <th></th>\n",
              "      <th>ReviewId</th>\n",
              "      <th>ReviewInTamil</th>\n",
              "      <th>Rating</th>\n",
              "      <th>ReviewInTamil1</th>\n",
              "    </tr>\n",
              "  </thead>\n",
              "  <tbody>\n",
              "    <tr>\n",
              "      <th>0</th>\n",
              "      <td>408</td>\n",
              "      <td>தமிழ் சினிமாவில் ஒரு சிலர் மட்டுமே பணம், பிஸின...</td>\n",
              "      <td>4.00</td>\n",
              "      <td>[த, ம, ி, ழ, ்,  , ச, ி, ன, ி, ம, ா, வ, ி, ல, ...</td>\n",
              "    </tr>\n",
              "    <tr>\n",
              "      <th>1</th>\n",
              "      <td>107</td>\n",
              "      <td>கரு : சினிமா படப்பிடிப்புகளில் வெளிச்சம் பாய்ச...</td>\n",
              "      <td>2.00</td>\n",
              "      <td>[க, ர, ு,  , :,  , ச, ி, ன, ி, ம, ா,  , ப, ட, ...</td>\n",
              "    </tr>\n",
              "    <tr>\n",
              "      <th>2</th>\n",
              "      <td>319</td>\n",
              "      <td>தமிழ் சினிமாவில் தற்போது நாயகர்களுக்கு இணையாக ...</td>\n",
              "      <td>3.25</td>\n",
              "      <td>[த, ம, ி, ழ, ்,  , ச, ி, ன, ி, ம, ா, வ, ி, ல, ...</td>\n",
              "    </tr>\n",
              "    <tr>\n",
              "      <th>3</th>\n",
              "      <td>484</td>\n",
              "      <td>உலக அளவில் அனைத்து தரப்பினரையும் தன் நடிப்பால்...</td>\n",
              "      <td>2.25</td>\n",
              "      <td>[உ, ல, க,  , அ, ள, வ, ி, ல, ்,  , அ, ன, ை, த, ...</td>\n",
              "    </tr>\n",
              "    <tr>\n",
              "      <th>4</th>\n",
              "      <td>204</td>\n",
              "      <td>கரு : வில்லனின் கையாள் , வில்லன் செய்த நம்பிக்...</td>\n",
              "      <td>3.00</td>\n",
              "      <td>[க, ர, ு,  , :,  , வ, ி, ல, ், ல, ன, ி, ன, ், ...</td>\n",
              "    </tr>\n",
              "  </tbody>\n",
              "</table>\n",
              "</div>"
            ],
            "text/plain": [
              "   ReviewId  ...                                     ReviewInTamil1\n",
              "0       408  ...  [த, ம, ி, ழ, ்,  , ச, ி, ன, ி, ம, ா, வ, ி, ல, ...\n",
              "1       107  ...  [க, ர, ு,  , :,  , ச, ி, ன, ி, ம, ா,  , ப, ட, ...\n",
              "2       319  ...  [த, ம, ி, ழ, ்,  , ச, ி, ன, ி, ம, ா, வ, ி, ல, ...\n",
              "3       484  ...  [உ, ல, க,  , அ, ள, வ, ி, ல, ்,  , அ, ன, ை, த, ...\n",
              "4       204  ...  [க, ர, ு,  , :,  , வ, ி, ல, ், ல, ன, ி, ன, ், ...\n",
              "\n",
              "[5 rows x 4 columns]"
            ]
          },
          "metadata": {
            "tags": []
          },
          "execution_count": 21
        }
      ]
    },
    {
      "cell_type": "code",
      "metadata": {
        "id": "eSrVxK5wGctR",
        "colab_type": "code",
        "colab": {
          "base_uri": "https://localhost:8080/",
          "height": 490
        },
        "outputId": "92febbdf-16e3-4c9b-91a8-15b66aa76e72"
      },
      "source": [
        "from keras.preprocessing.text import Tokenizer\n",
        "from keras.preprocessing.sequence import pad_sequences\n",
        "from keras.layers import Dense , Input , LSTM , Embedding, Dropout , Activation, GRU, Flatten\n",
        "from keras.layers import Bidirectional, GlobalMaxPool1D\n",
        "from keras.models import Model, Sequential\n",
        "from keras.layers import Convolution1D\n",
        "from keras import initializers, regularizers, constraints, optimizers, layers\n",
        "max_features = 6000\n",
        "tokenizer = Tokenizer(num_words=max_features)\n",
        "tokenizer.fit_on_texts(df_train['ReviewInTamil1'])\n",
        "list_tokenized_train = tokenizer.texts_to_sequences(df_train['ReviewInTamil1'])\n",
        "\n",
        "maxlen = 130\n",
        "X_train = pad_sequences(list_tokenized_train, maxlen=maxlen)\n",
        "y_train = df_train['Rating']\n",
        "\n",
        "embed_size = 128\n",
        "model = Sequential()\n",
        "model.add(Embedding(max_features, embed_size))\n",
        "model.add(Bidirectional(LSTM(32, return_sequences = True)))\n",
        "model.add(GlobalMaxPool1D())\n",
        "model.add(Dense(20, activation=\"relu\"))\n",
        "model.add(Dropout(0.05))\n",
        "model.add(Dense(1, activation=\"sigmoid\"))\n",
        "model.compile(loss='mean_squared_error', optimizer='adam', metrics=['mse'])\n",
        "batch_size = 100\n",
        "epochs = 3\n",
        "model.fit(X_train,y_train, batch_size=batch_size, epochs=epochs, validation_split=0.2)"
      ],
      "execution_count": 24,
      "outputs": [
        {
          "output_type": "stream",
          "text": [
            "WARNING:tensorflow:From /usr/local/lib/python3.6/dist-packages/tensorflow_core/python/ops/math_grad.py:1424: where (from tensorflow.python.ops.array_ops) is deprecated and will be removed in a future version.\n",
            "Instructions for updating:\n",
            "Use tf.where in 2.0, which has the same broadcast rule as np.where\n",
            "WARNING:tensorflow:From /usr/local/lib/python3.6/dist-packages/keras/backend/tensorflow_backend.py:1033: The name tf.assign_add is deprecated. Please use tf.compat.v1.assign_add instead.\n",
            "\n",
            "WARNING:tensorflow:From /usr/local/lib/python3.6/dist-packages/keras/backend/tensorflow_backend.py:1020: The name tf.assign is deprecated. Please use tf.compat.v1.assign instead.\n",
            "\n",
            "WARNING:tensorflow:From /usr/local/lib/python3.6/dist-packages/keras/backend/tensorflow_backend.py:3005: The name tf.Session is deprecated. Please use tf.compat.v1.Session instead.\n",
            "\n",
            "Train on 384 samples, validate on 96 samples\n",
            "Epoch 1/3\n",
            "WARNING:tensorflow:From /usr/local/lib/python3.6/dist-packages/keras/backend/tensorflow_backend.py:190: The name tf.get_default_session is deprecated. Please use tf.compat.v1.get_default_session instead.\n",
            "\n",
            "WARNING:tensorflow:From /usr/local/lib/python3.6/dist-packages/keras/backend/tensorflow_backend.py:197: The name tf.ConfigProto is deprecated. Please use tf.compat.v1.ConfigProto instead.\n",
            "\n",
            "WARNING:tensorflow:From /usr/local/lib/python3.6/dist-packages/keras/backend/tensorflow_backend.py:207: The name tf.global_variables is deprecated. Please use tf.compat.v1.global_variables instead.\n",
            "\n",
            "WARNING:tensorflow:From /usr/local/lib/python3.6/dist-packages/keras/backend/tensorflow_backend.py:216: The name tf.is_variable_initialized is deprecated. Please use tf.compat.v1.is_variable_initialized instead.\n",
            "\n",
            "WARNING:tensorflow:From /usr/local/lib/python3.6/dist-packages/keras/backend/tensorflow_backend.py:223: The name tf.variables_initializer is deprecated. Please use tf.compat.v1.variables_initializer instead.\n",
            "\n",
            "384/384 [==============================] - 3s 9ms/step - loss: 5.7443 - mean_squared_error: 5.7443 - val_loss: 5.6109 - val_mean_squared_error: 5.6109\n",
            "Epoch 2/3\n",
            "384/384 [==============================] - 1s 3ms/step - loss: 5.6522 - mean_squared_error: 5.6522 - val_loss: 5.5087 - val_mean_squared_error: 5.5087\n",
            "Epoch 3/3\n",
            "384/384 [==============================] - 1s 3ms/step - loss: 5.5367 - mean_squared_error: 5.5367 - val_loss: 5.3631 - val_mean_squared_error: 5.3631\n"
          ],
          "name": "stdout"
        },
        {
          "output_type": "execute_result",
          "data": {
            "text/plain": [
              "<keras.callbacks.History at 0x7ff92d9b9898>"
            ]
          },
          "metadata": {
            "tags": []
          },
          "execution_count": 24
        }
      ]
    },
    {
      "cell_type": "code",
      "metadata": {
        "id": "Z0gN4vMIAP3Z",
        "colab_type": "code",
        "colab": {}
      },
      "source": [
        ""
      ],
      "execution_count": 0,
      "outputs": []
    }
  ]
}