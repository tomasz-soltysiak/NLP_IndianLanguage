{
  "nbformat": 4,
  "nbformat_minor": 0,
  "metadata": {
    "colab": {
      "name": "NLP_models.ipynb",
      "provenance": [],
      "include_colab_link": true
    },
    "kernelspec": {
      "name": "python3",
      "display_name": "Python 3"
    }
  },
  "cells": [
    {
      "cell_type": "markdown",
      "metadata": {
        "id": "view-in-github",
        "colab_type": "text"
      },
      "source": [
        "<a href=\"https://colab.research.google.com/github/tomasz-soltysiak/NLP_IndianLanguage/blob/master/NLP_Nueral_Network.ipynb\" target=\"_parent\"><img src=\"https://colab.research.google.com/assets/colab-badge.svg\" alt=\"Open In Colab\"/></a>"
      ]
    },
    {
      "cell_type": "code",
      "metadata": {
        "colab_type": "code",
        "id": "5abZVHp7_U_B",
        "colab": {}
      },
      "source": [
        "import matplotlib.patches as mpatches\n",
        "import pandas as pd\n",
        "import matplotlib.pyplot as plt\n",
        "import seaborn as sns\n",
        "import numpy as np\n",
        "from sklearn.preprocessing import RobustScaler, StandardScaler\n",
        "from sklearn.model_selection import train_test_split,StratifiedKFold\n",
        "from sklearn.manifold import TSNE\n",
        "from sklearn.cluster import KMeans\n",
        "from sklearn.decomposition import PCA\n",
        "from sklearn.linear_model import LinearRegression, Lasso\n",
        "from sklearn.model_selection import cross_val_score\n",
        "from sklearn.metrics import recall_score, precision_score, f1_score, accuracy_score,roc_curve,confusion_matrix,roc_auc_score, mean_squared_error\n",
        "from sklearn.ensemble import RandomForestClassifier\n",
        "from sklearn.neighbors import KNeighborsClassifier\n",
        "from sklearn.feature_extraction.text import CountVectorizer\n",
        "from sklearn.feature_extraction.text import TfidfVectorizer\n",
        "import re"
      ],
      "execution_count": 0,
      "outputs": []
    },
    {
      "cell_type": "code",
      "metadata": {
        "id": "HDb5PzMp_XCW",
        "colab_type": "code",
        "outputId": "04b2f60a-e07b-4d73-ddce-de417ca31c20",
        "colab": {
          "base_uri": "https://localhost:8080/",
          "height": 34
        }
      },
      "source": [
        "df_train=pd.read_csv('/content/tamil_movie_reviews_train.csv',delimiter=',')\n",
        "df_test=pd.read_csv('/content/tamil_movie_reviews_test.csv',delimiter=',')\n",
        "df_train.shape"
      ],
      "execution_count": 88,
      "outputs": [
        {
          "output_type": "execute_result",
          "data": {
            "text/plain": [
              "(480, 3)"
            ]
          },
          "metadata": {
            "tags": []
          },
          "execution_count": 88
        }
      ]
    },
    {
      "cell_type": "code",
      "metadata": {
        "id": "7Esf8yDfAGOi",
        "colab_type": "code",
        "outputId": "89644488-7545-424c-dca6-e2bfef8c9380",
        "colab": {
          "base_uri": "https://localhost:8080/",
          "height": 195
        }
      },
      "source": [
        "import re\n",
        "from nltk.stem import WordNetLemmatizer\n",
        "from nltk.corpus import stopwords\n",
        "from nltk.stem.porter import PorterStemmer\n",
        "#stop_words = set(stopwords.words('')) \n",
        "porter=PorterStemmer()\n",
        "lemmatizer = WordNetLemmatizer()\n",
        "def clean_text(text):\n",
        "    #text = re.sub(r'[^\\w\\s]','',text, re.UNICODE)\n",
        "    #text = text.lower()\n",
        "    #text = [porter.stem(word) for word in text]\n",
        "    #text = [lemmatizer.lemmatize(token) for token in text]\n",
        "    #text = [lemmatizer.lemmatize(token, \"v\") for token in text]\n",
        "    #text = [word for word in text if not word in stop_words]\n",
        "    text = \" \".join(text)\n",
        "    return text\n",
        "\n",
        "df_train['ReviewInTamil1'] = df_train.ReviewInTamil.apply(lambda x: clean_text(x))\n",
        "df_test['ReviewInTamil1'] = df_test.ReviewInTamil.apply(lambda x: clean_text(x))\n",
        "df_train.head()\n",
        "\n",
        "\n",
        "\n",
        "\n",
        "\n"
      ],
      "execution_count": 89,
      "outputs": [
        {
          "output_type": "execute_result",
          "data": {
            "text/html": [
              "<div>\n",
              "<style scoped>\n",
              "    .dataframe tbody tr th:only-of-type {\n",
              "        vertical-align: middle;\n",
              "    }\n",
              "\n",
              "    .dataframe tbody tr th {\n",
              "        vertical-align: top;\n",
              "    }\n",
              "\n",
              "    .dataframe thead th {\n",
              "        text-align: right;\n",
              "    }\n",
              "</style>\n",
              "<table border=\"1\" class=\"dataframe\">\n",
              "  <thead>\n",
              "    <tr style=\"text-align: right;\">\n",
              "      <th></th>\n",
              "      <th>ReviewId</th>\n",
              "      <th>ReviewInTamil</th>\n",
              "      <th>Rating</th>\n",
              "      <th>ReviewInTamil1</th>\n",
              "    </tr>\n",
              "  </thead>\n",
              "  <tbody>\n",
              "    <tr>\n",
              "      <th>0</th>\n",
              "      <td>408</td>\n",
              "      <td>தமிழ் சினிமாவில் ஒரு சிலர் மட்டுமே பணம், பிஸின...</td>\n",
              "      <td>4.00</td>\n",
              "      <td>த ம ி ழ ்   ச ி ன ி ம ா வ ி ல ்   ஒ ர ு   ச ி ...</td>\n",
              "    </tr>\n",
              "    <tr>\n",
              "      <th>1</th>\n",
              "      <td>107</td>\n",
              "      <td>கரு : சினிமா படப்பிடிப்புகளில் வெளிச்சம் பாய்ச...</td>\n",
              "      <td>2.00</td>\n",
              "      <td>க ர ு   :   ச ி ன ி ம ா   ப ட ப ் ப ி ட ி ப ் ...</td>\n",
              "    </tr>\n",
              "    <tr>\n",
              "      <th>2</th>\n",
              "      <td>319</td>\n",
              "      <td>தமிழ் சினிமாவில் தற்போது நாயகர்களுக்கு இணையாக ...</td>\n",
              "      <td>3.25</td>\n",
              "      <td>த ம ி ழ ்   ச ி ன ி ம ா வ ி ல ்   த ற ் ப ோ த ...</td>\n",
              "    </tr>\n",
              "    <tr>\n",
              "      <th>3</th>\n",
              "      <td>484</td>\n",
              "      <td>உலக அளவில் அனைத்து தரப்பினரையும் தன் நடிப்பால்...</td>\n",
              "      <td>2.25</td>\n",
              "      <td>உ ல க   அ ள வ ி ல ்   அ ன ை த ் த ு   த ர ப ் ...</td>\n",
              "    </tr>\n",
              "    <tr>\n",
              "      <th>4</th>\n",
              "      <td>204</td>\n",
              "      <td>கரு : வில்லனின் கையாள் , வில்லன் செய்த நம்பிக்...</td>\n",
              "      <td>3.00</td>\n",
              "      <td>க ர ு   :   வ ி ல ் ல ன ி ன ்   க ை ய ா ள ்   ...</td>\n",
              "    </tr>\n",
              "  </tbody>\n",
              "</table>\n",
              "</div>"
            ],
            "text/plain": [
              "   ReviewId  ...                                     ReviewInTamil1\n",
              "0       408  ...  த ம ி ழ ்   ச ி ன ி ம ா வ ி ல ்   ஒ ர ு   ச ி ...\n",
              "1       107  ...  க ர ு   :   ச ி ன ி ம ா   ப ட ப ் ப ி ட ி ப ் ...\n",
              "2       319  ...  த ம ி ழ ்   ச ி ன ி ம ா வ ி ல ்   த ற ் ப ோ த ...\n",
              "3       484  ...  உ ல க   அ ள வ ி ல ்   அ ன ை த ் த ு   த ர ப ் ...\n",
              "4       204  ...  க ர ு   :   வ ி ல ் ல ன ி ன ்   க ை ய ா ள ்   ...\n",
              "\n",
              "[5 rows x 4 columns]"
            ]
          },
          "metadata": {
            "tags": []
          },
          "execution_count": 89
        }
      ]
    },
    {
      "cell_type": "code",
      "metadata": {
        "id": "4s_BnYiZ1LpG",
        "colab_type": "code",
        "outputId": "17fcbf65-f434-4c86-8c41-d14e4912acc1",
        "colab": {
          "base_uri": "https://localhost:8080/",
          "height": 574
        }
      },
      "source": [
        "from keras.preprocessing.text import Tokenizer\n",
        "from keras.preprocessing.sequence import pad_sequences\n",
        "from keras.layers import Dense , Input , LSTM , Embedding, Dropout , Activation, GRU, Flatten\n",
        "from keras.layers import Bidirectional, GlobalMaxPool1D\n",
        "from keras.models import Model, Sequential\n",
        "from keras.layers import Convolution1D\n",
        "from keras import initializers, regularizers, constraints, optimizers, layers\n",
        "max_features = 130\n",
        "\n",
        "scaler=StandardScaler()\n",
        "#tokenizer.fit_on_texts(df_train['ReviewInTamil1'])\n",
        "list_tokenized_train = tokenizer.texts_to_sequences(df_train['ReviewInTamil1'])\n",
        "\n",
        "\n",
        "#list_tokenized_test = tokenizer.texts_to_sequences(df_test['ReviewInTamil1'])\n",
        "maxlen = 130\n",
        "\n",
        "X_train = tokenizer.texts_to_matrix(df_train['ReviewInTamil1'])\n",
        "#X_train=np.array(scaler.fit_transform(X_train)).reshape(-1,1)\n",
        "y_train = df_train['Rating']\n",
        "#y_train=np.array(scaler.fit_transform(y_train))\n",
        "\n",
        "X_test = tokenizer.texts_to_matrix(df_test['ReviewInTamil1'])\n",
        "y_test = df_test['Rating']\n",
        "\n",
        "embed_size = 128\n",
        "model = Sequential()\n",
        "\n",
        "model.add(Dense(units=32,input_shape=(130,)))\n",
        "model.add(Dense(20, activation=\"relu\"))\n",
        "model.add(Dropout(0.05))\n",
        "model.add(Dense(1))\n",
        "\n",
        "model.compile(loss='mean_squared_error', optimizer='adam', metrics=['mse'])\n",
        "batch_size = 100\n",
        "epochs = 15\n",
        "model.fit(X_train,y_train, batch_size=batch_size, epochs=epochs, validation_split=0.2)\n",
        "'''\n",
        "\n",
        "model.add(Embedding(max_features, embed_size))\n",
        "model.add(Bidirectional(LSTM(32, return_sequences = True)))\n",
        "model.add(GlobalMaxPool1D())\n",
        "'''"
      ],
      "execution_count": 98,
      "outputs": [
        {
          "output_type": "stream",
          "text": [
            "Train on 384 samples, validate on 96 samples\n",
            "Epoch 1/15\n",
            "384/384 [==============================] - 6s 16ms/step - loss: 4.2898 - mean_squared_error: 4.2898 - val_loss: 1.9440 - val_mean_squared_error: 1.9440\n",
            "Epoch 2/15\n",
            "384/384 [==============================] - 0s 52us/step - loss: 1.1228 - mean_squared_error: 1.1228 - val_loss: 0.3457 - val_mean_squared_error: 0.3457\n",
            "Epoch 3/15\n",
            "384/384 [==============================] - 0s 38us/step - loss: 0.5161 - mean_squared_error: 0.5161 - val_loss: 0.6528 - val_mean_squared_error: 0.6528\n",
            "Epoch 4/15\n",
            "384/384 [==============================] - 0s 35us/step - loss: 0.8931 - mean_squared_error: 0.8931 - val_loss: 0.5996 - val_mean_squared_error: 0.5996\n",
            "Epoch 5/15\n",
            "384/384 [==============================] - 0s 31us/step - loss: 0.6624 - mean_squared_error: 0.6624 - val_loss: 0.3442 - val_mean_squared_error: 0.3442\n",
            "Epoch 6/15\n",
            "384/384 [==============================] - 0s 29us/step - loss: 0.4417 - mean_squared_error: 0.4417 - val_loss: 0.3553 - val_mean_squared_error: 0.3553\n",
            "Epoch 7/15\n",
            "384/384 [==============================] - 0s 31us/step - loss: 0.5249 - mean_squared_error: 0.5249 - val_loss: 0.4288 - val_mean_squared_error: 0.4288\n",
            "Epoch 8/15\n",
            "384/384 [==============================] - 0s 33us/step - loss: 0.5218 - mean_squared_error: 0.5218 - val_loss: 0.3905 - val_mean_squared_error: 0.3905\n",
            "Epoch 9/15\n",
            "384/384 [==============================] - 0s 28us/step - loss: 0.4448 - mean_squared_error: 0.4448 - val_loss: 0.3234 - val_mean_squared_error: 0.3234\n",
            "Epoch 10/15\n",
            "384/384 [==============================] - 0s 36us/step - loss: 0.4302 - mean_squared_error: 0.4302 - val_loss: 0.3146 - val_mean_squared_error: 0.3146\n",
            "Epoch 11/15\n",
            "384/384 [==============================] - 0s 34us/step - loss: 0.4276 - mean_squared_error: 0.4276 - val_loss: 0.3189 - val_mean_squared_error: 0.3189\n",
            "Epoch 12/15\n",
            "384/384 [==============================] - 0s 33us/step - loss: 0.4063 - mean_squared_error: 0.4063 - val_loss: 0.3070 - val_mean_squared_error: 0.3070\n",
            "Epoch 13/15\n",
            "384/384 [==============================] - 0s 34us/step - loss: 0.4565 - mean_squared_error: 0.4565 - val_loss: 0.3138 - val_mean_squared_error: 0.3138\n",
            "Epoch 14/15\n",
            "384/384 [==============================] - 0s 29us/step - loss: 0.4014 - mean_squared_error: 0.4014 - val_loss: 0.3182 - val_mean_squared_error: 0.3182\n",
            "Epoch 15/15\n",
            "384/384 [==============================] - 0s 33us/step - loss: 0.3865 - mean_squared_error: 0.3865 - val_loss: 0.3133 - val_mean_squared_error: 0.3133\n"
          ],
          "name": "stdout"
        },
        {
          "output_type": "execute_result",
          "data": {
            "text/plain": [
              "'\\n\\nmodel.add(Embedding(max_features, embed_size))\\nmodel.add(Bidirectional(LSTM(32, return_sequences = True)))\\nmodel.add(GlobalMaxPool1D())\\n'"
            ]
          },
          "metadata": {
            "tags": []
          },
          "execution_count": 98
        }
      ]
    },
    {
      "cell_type": "code",
      "metadata": {
        "id": "Z0gN4vMIAP3Z",
        "colab_type": "code",
        "outputId": "fc8f325b-de64-49a4-d6dc-82abaa3ceb9a",
        "colab": {
          "base_uri": "https://localhost:8080/",
          "height": 34
        }
      },
      "source": [
        "y_pred=model.predict(X_test)\n",
        "mean_squared_error(y_test,y_pred)"
      ],
      "execution_count": 91,
      "outputs": [
        {
          "output_type": "execute_result",
          "data": {
            "text/plain": [
              "4.51504254749368"
            ]
          },
          "metadata": {
            "tags": []
          },
          "execution_count": 91
        }
      ]
    },
    {
      "cell_type": "markdown",
      "metadata": {
        "id": "sSYsQAXP1q7a",
        "colab_type": "text"
      },
      "source": [
        ""
      ]
    },
    {
      "cell_type": "code",
      "metadata": {
        "id": "lPYtLSdJ6AaU",
        "colab_type": "code",
        "outputId": "d2add37c-5ebe-43b2-a381-d927283a4bb5",
        "colab": {
          "base_uri": "https://localhost:8080/",
          "height": 34
        }
      },
      "source": [
        "Reg=LinearRegression()\n",
        "Reg.fit(X_train,y_train)\n",
        "y_pred=Reg.predict(X_test)\n",
        "mean_squared_error(y_test,y_pred)"
      ],
      "execution_count": 0,
      "outputs": [
        {
          "output_type": "execute_result",
          "data": {
            "text/plain": [
              "0.4191248870092975"
            ]
          },
          "metadata": {
            "tags": []
          },
          "execution_count": 86
        }
      ]
    },
    {
      "cell_type": "code",
      "metadata": {
        "id": "rzNPjewtA0vy",
        "colab_type": "code",
        "colab": {
          "base_uri": "https://localhost:8080/",
          "height": 34
        },
        "outputId": "987241f9-6c3f-455a-d915-24c1087c7369"
      },
      "source": [
        "X_train.shape"
      ],
      "execution_count": 94,
      "outputs": [
        {
          "output_type": "execute_result",
          "data": {
            "text/plain": [
              "(480, 130)"
            ]
          },
          "metadata": {
            "tags": []
          },
          "execution_count": 94
        }
      ]
    }
  ]
}