{
  "nbformat": 4,
  "nbformat_minor": 0,
  "metadata": {
    "colab": {
      "name": "NLP_models.ipynb",
      "provenance": [],
      "include_colab_link": true
    },
    "kernelspec": {
      "name": "python3",
      "display_name": "Python 3"
    }
  },
  "cells": [
    {
      "cell_type": "markdown",
      "metadata": {
        "id": "view-in-github",
        "colab_type": "text"
      },
      "source": [
        "<a href=\"https://colab.research.google.com/github/tomasz-soltysiak/NLP_IndianLanguage/blob/master/NLP_Nueral_Network.ipynb\" target=\"_parent\"><img src=\"https://colab.research.google.com/assets/colab-badge.svg\" alt=\"Open In Colab\"/></a>"
      ]
    },
    {
      "cell_type": "code",
      "metadata": {
        "id": "5abZVHp7_U_B"
      },
      "source": [
        "import matplotlib.patches as mpatches\n",
        "import pandas as pd\n",
        "import matplotlib.pyplot as plt\n",
        "import seaborn as sns\n",
        "import numpy as np\n",
        "from sklearn.preprocessing import RobustScaler, StandardScaler\n",
        "from sklearn.model_selection import train_test_split,StratifiedKFold\n",
        "from sklearn.manifold import TSNE\n",
        "from sklearn.cluster import KMeans\n",
        "from sklearn.decomposition import PCA\n",
        "from sklearn.linear_model import LinearRegression, Lasso\n",
        "from sklearn.model_selection import cross_val_score\n",
        "from sklearn.metrics import recall_score, precision_score, f1_score, accuracy_score,roc_curve,confusion_matrix,roc_auc_score, mean_squared_error\n",
        "from sklearn.ensemble import RandomForestClassifier\n",
        "from sklearn.neighbors import KNeighborsClassifier\n",
        "from sklearn.feature_extraction.text import CountVectorizer\n",
        "from sklearn.feature_extraction.text import TfidfVectorizer\n",
        "import re"
      ],
      "execution_count": 1,
      "outputs": []
    },
    {
      "cell_type": "code",
      "metadata": {
        "id": "HDb5PzMp_XCW",
        "colab": {
          "base_uri": "https://localhost:8080/"
        },
        "outputId": "b0fc57f5-f41f-4f64-832d-07d32ff8dd43"
      },
      "source": [
        "df_train=pd.read_csv('/content/tamil_movie_reviews_train.csv',delimiter=',')\n",
        "df_test=pd.read_csv('/content/tamil_movie_reviews_test.csv',delimiter=',')\n",
        "df_train.shape"
      ],
      "execution_count": 3,
      "outputs": [
        {
          "output_type": "execute_result",
          "data": {
            "text/plain": [
              "(480, 3)"
            ]
          },
          "metadata": {
            "tags": []
          },
          "execution_count": 3
        }
      ]
    },
    {
      "cell_type": "code",
      "metadata": {
        "id": "7Esf8yDfAGOi",
        "colab": {
          "base_uri": "https://localhost:8080/",
          "height": 195
        },
        "outputId": "090eafe1-d2f7-4dfa-ac43-7bffe43f1e7e"
      },
      "source": [
        "import re\n",
        "from nltk.stem import WordNetLemmatizer\n",
        "from nltk.corpus import stopwords\n",
        "from nltk.stem.porter import PorterStemmer\n",
        "#stop_words = set(stopwords.words('')) \n",
        "porter=PorterStemmer()\n",
        "lemmatizer = WordNetLemmatizer()\n",
        "def clean_text(text):\n",
        "    text = re.sub(r'[^\\w\\s]','',text, re.UNICODE)\n",
        "    text = text.lower()\n",
        "    text = [porter.stem(word) for word in text]\n",
        "    #text = [lemmatizer.lemmatize(token) for token in text]\n",
        "    #text = [lemmatizer.lemmatize(token, \"v\") for token in text]\n",
        "    #text = [word for word in text if not word in stop_words]\n",
        "    text = \" \".join(text)\n",
        "    return text\n",
        "\n",
        "df_train['ReviewInTamil1'] = df_train.ReviewInTamil.apply(lambda x: clean_text(x))\n",
        "df_test['ReviewInTamil1'] = df_test.ReviewInTamil.apply(lambda x: clean_text(x))\n",
        "df_train.head()\n",
        "\n",
        "\n",
        "\n",
        "\n",
        "\n"
      ],
      "execution_count": 4,
      "outputs": [
        {
          "output_type": "execute_result",
          "data": {
            "text/html": [
              "<div>\n",
              "<style scoped>\n",
              "    .dataframe tbody tr th:only-of-type {\n",
              "        vertical-align: middle;\n",
              "    }\n",
              "\n",
              "    .dataframe tbody tr th {\n",
              "        vertical-align: top;\n",
              "    }\n",
              "\n",
              "    .dataframe thead th {\n",
              "        text-align: right;\n",
              "    }\n",
              "</style>\n",
              "<table border=\"1\" class=\"dataframe\">\n",
              "  <thead>\n",
              "    <tr style=\"text-align: right;\">\n",
              "      <th></th>\n",
              "      <th>ReviewId</th>\n",
              "      <th>ReviewInTamil</th>\n",
              "      <th>Rating</th>\n",
              "      <th>ReviewInTamil1</th>\n",
              "    </tr>\n",
              "  </thead>\n",
              "  <tbody>\n",
              "    <tr>\n",
              "      <th>0</th>\n",
              "      <td>408</td>\n",
              "      <td>தமிழ் சினிமாவில் ஒரு சிலர் மட்டுமே பணம், பிஸின...</td>\n",
              "      <td>4.00</td>\n",
              "      <td>த ம ழ   ச ன ம வ ல   ஒ ர   ச ல ர   ம ட ட ம   ப ...</td>\n",
              "    </tr>\n",
              "    <tr>\n",
              "      <th>1</th>\n",
              "      <td>107</td>\n",
              "      <td>கரு : சினிமா படப்பிடிப்புகளில் வெளிச்சம் பாய்ச...</td>\n",
              "      <td>2.00</td>\n",
              "      <td>க ர     ச ன ம   ப ட ப ப ட ப ப க ள ல   வ ள ச ச ...</td>\n",
              "    </tr>\n",
              "    <tr>\n",
              "      <th>2</th>\n",
              "      <td>319</td>\n",
              "      <td>தமிழ் சினிமாவில் தற்போது நாயகர்களுக்கு இணையாக ...</td>\n",
              "      <td>3.25</td>\n",
              "      <td>த ம ழ   ச ன ம வ ல   த ற ப த   ந ய க ர க ள க க ...</td>\n",
              "    </tr>\n",
              "    <tr>\n",
              "      <th>3</th>\n",
              "      <td>484</td>\n",
              "      <td>உலக அளவில் அனைத்து தரப்பினரையும் தன் நடிப்பால்...</td>\n",
              "      <td>2.25</td>\n",
              "      <td>உ ல க   அ ள வ ல   அ ன த த   த ர ப ப ன ர ய ம   ...</td>\n",
              "    </tr>\n",
              "    <tr>\n",
              "      <th>4</th>\n",
              "      <td>204</td>\n",
              "      <td>கரு : வில்லனின் கையாள் , வில்லன் செய்த நம்பிக்...</td>\n",
              "      <td>3.00</td>\n",
              "      <td>க ர     வ ல ல ன ன   க ய ள     வ ல ல ன   ச ய த ...</td>\n",
              "    </tr>\n",
              "  </tbody>\n",
              "</table>\n",
              "</div>"
            ],
            "text/plain": [
              "   ReviewId  ...                                     ReviewInTamil1\n",
              "0       408  ...  த ம ழ   ச ன ம வ ல   ஒ ர   ச ல ர   ம ட ட ம   ப ...\n",
              "1       107  ...  க ர     ச ன ம   ப ட ப ப ட ப ப க ள ல   வ ள ச ச ...\n",
              "2       319  ...  த ம ழ   ச ன ம வ ல   த ற ப த   ந ய க ர க ள க க ...\n",
              "3       484  ...  உ ல க   அ ள வ ல   அ ன த த   த ர ப ப ன ர ய ம   ...\n",
              "4       204  ...  க ர     வ ல ல ன ன   க ய ள     வ ல ல ன   ச ய த ...\n",
              "\n",
              "[5 rows x 4 columns]"
            ]
          },
          "metadata": {
            "tags": []
          },
          "execution_count": 4
        }
      ]
    },
    {
      "cell_type": "code",
      "metadata": {
        "id": "yHH6oly2Tit0",
        "outputId": "0ce894c5-d776-411a-c3a5-9c654783a264",
        "colab": {
          "base_uri": "https://localhost:8080/"
        }
      },
      "source": [
        "from keras.preprocessing.text import Tokenizer\n",
        "tokenizer=Tokenizer(num_words=130)\n",
        "X_train = tokenizer.texts_to_matrix(df_train['ReviewInTamil1'])\n"
      ],
      "execution_count": 10,
      "outputs": [
        {
          "output_type": "execute_result",
          "data": {
            "text/plain": [
              "array([0., 0., 0., 0., 0., 0., 0., 0., 0., 0., 0., 0., 0., 0., 0., 0., 0.,\n",
              "       0., 0., 0., 0., 0., 0., 0., 0., 0., 0., 0., 0., 0., 0., 0., 0., 0.,\n",
              "       0., 0., 0., 0., 0., 0., 0., 0., 0., 0., 0., 0., 0., 0., 0., 0., 0.,\n",
              "       0., 0., 0., 0., 0., 0., 0., 0., 0., 0., 0., 0., 0., 0., 0., 0., 0.,\n",
              "       0., 0., 0., 0., 0., 0., 0., 0., 0., 0., 0., 0., 0., 0., 0., 0., 0.,\n",
              "       0., 0., 0., 0., 0., 0., 0., 0., 0., 0., 0., 0., 0., 0., 0., 0., 0.,\n",
              "       0., 0., 0., 0., 0., 0., 0., 0., 0., 0., 0., 0., 0., 0., 0., 0., 0.,\n",
              "       0., 0., 0., 0., 0., 0., 0., 0., 0., 0., 0.])"
            ]
          },
          "metadata": {
            "tags": []
          },
          "execution_count": 10
        }
      ]
    },
    {
      "cell_type": "code",
      "metadata": {
        "id": "4s_BnYiZ1LpG",
        "colab": {
          "base_uri": "https://localhost:8080/",
          "height": 825
        },
        "outputId": "4f794266-5a9f-4ce8-e8b4-adefcaa4f235"
      },
      "source": [
        "from keras.preprocessing.text import Tokenizer\n",
        "from keras.preprocessing.sequence import pad_sequences\n",
        "from keras.layers import Dense , Input , LSTM , Embedding, Dropout , Activation, GRU, Flatten\n",
        "from keras.layers import Bidirectional, GlobalMaxPool1D\n",
        "from keras.models import Model, Sequential\n",
        "from keras.layers import Convolution1D\n",
        "from keras.callbacks import EarlyStopping,ModelCheckpoint\n",
        "from keras import initializers, regularizers, constraints, optimizers, layers\n",
        "max_features = 130\n",
        "tokenizer=Tokenizer(num_words=max_features)\n",
        "scaler=StandardScaler()\n",
        "tokenizer.fit_on_texts(df_train['ReviewInTamil1'])\n",
        "list_tokenized_train = tokenizer.texts_to_sequences(df_train['ReviewInTamil1'])\n",
        "\n",
        "\n",
        "#list_tokenized_test = tokenizer.texts_to_sequences(df_test['ReviewInTamil1'])\n",
        "maxlen = 130\n",
        "\n",
        "X_train = tokenizer.texts_to_matrix(df_train['ReviewInTamil1'])\n",
        "\n",
        "y_train = df_train['Rating']\n",
        "#y_train=np.array(scaler.fit_transform(y_train))\n",
        "\n",
        "X_test = tokenizer.texts_to_matrix(df_test['ReviewInTamil1'])\n",
        "y_test = df_test['Rating']\n",
        "\n",
        "embed_size = 128\n",
        "model = Sequential()\n",
        "\n",
        "model.add(layers.Dense(units=12,input_shape=(130,)))\n",
        "model.add(Dropout(0.05))\n",
        "model.add(layers.Dense(32, activation=\"relu\"))\n",
        "model.add(Dropout(0.05))\n",
        "model.add(layers.Dense(1))\n",
        "\n",
        "model.compile(loss='mean_squared_error', optimizer='RMSprop', metrics=['mse'])\n",
        "\n",
        "batch_size = 100\n",
        "epochs = 30\n",
        "callbacks=[EarlyStopping(monitor='val_loss',patience=4)]\n",
        "model.fit(X_train,y_train, batch_size=batch_size, epochs=epochs, validation_split=0.2,callbacks=callbacks)\n",
        "'''\n",
        "\n",
        "model.add(Embedding(max_features, embed_size))\n",
        "model.add(Bidirectional(LSTM(32, return_sequences = True)))\n",
        "model.add(GlobalMaxPool1D())\n",
        "'''"
      ],
      "execution_count": 35,
      "outputs": [
        {
          "output_type": "stream",
          "text": [
            "Epoch 1/30\n",
            "4/4 [==============================] - 0s 29ms/step - loss: 7.4305 - mse: 7.4305 - val_loss: 4.4649 - val_mse: 4.4649\n",
            "Epoch 2/30\n",
            "4/4 [==============================] - 0s 5ms/step - loss: 3.9781 - mse: 3.9781 - val_loss: 2.2739 - val_mse: 2.2739\n",
            "Epoch 3/30\n",
            "4/4 [==============================] - 0s 6ms/step - loss: 1.9845 - mse: 1.9845 - val_loss: 0.9968 - val_mse: 0.9968\n",
            "Epoch 4/30\n",
            "4/4 [==============================] - 0s 5ms/step - loss: 1.0555 - mse: 1.0555 - val_loss: 0.4722 - val_mse: 0.4722\n",
            "Epoch 5/30\n",
            "4/4 [==============================] - 0s 5ms/step - loss: 0.7314 - mse: 0.7314 - val_loss: 0.3344 - val_mse: 0.3344\n",
            "Epoch 6/30\n",
            "4/4 [==============================] - 0s 5ms/step - loss: 0.6103 - mse: 0.6103 - val_loss: 0.3188 - val_mse: 0.3188\n",
            "Epoch 7/30\n",
            "4/4 [==============================] - 0s 5ms/step - loss: 0.5718 - mse: 0.5718 - val_loss: 0.3121 - val_mse: 0.3121\n",
            "Epoch 8/30\n",
            "4/4 [==============================] - 0s 5ms/step - loss: 0.5403 - mse: 0.5403 - val_loss: 0.3124 - val_mse: 0.3124\n",
            "Epoch 9/30\n",
            "4/4 [==============================] - 0s 5ms/step - loss: 0.5749 - mse: 0.5749 - val_loss: 0.3094 - val_mse: 0.3094\n",
            "Epoch 10/30\n",
            "4/4 [==============================] - 0s 10ms/step - loss: 0.5097 - mse: 0.5097 - val_loss: 0.3054 - val_mse: 0.3054\n",
            "Epoch 11/30\n",
            "4/4 [==============================] - 0s 5ms/step - loss: 0.5204 - mse: 0.5204 - val_loss: 0.3003 - val_mse: 0.3003\n",
            "Epoch 12/30\n",
            "4/4 [==============================] - 0s 5ms/step - loss: 0.5159 - mse: 0.5159 - val_loss: 0.2970 - val_mse: 0.2970\n",
            "Epoch 13/30\n",
            "4/4 [==============================] - 0s 5ms/step - loss: 0.5432 - mse: 0.5432 - val_loss: 0.3170 - val_mse: 0.3170\n",
            "Epoch 14/30\n",
            "4/4 [==============================] - 0s 5ms/step - loss: 0.5270 - mse: 0.5270 - val_loss: 0.3023 - val_mse: 0.3023\n",
            "Epoch 15/30\n",
            "4/4 [==============================] - 0s 5ms/step - loss: 0.4841 - mse: 0.4841 - val_loss: 0.2929 - val_mse: 0.2929\n",
            "Epoch 16/30\n",
            "4/4 [==============================] - 0s 8ms/step - loss: 0.4351 - mse: 0.4351 - val_loss: 0.3006 - val_mse: 0.3006\n",
            "Epoch 17/30\n",
            "4/4 [==============================] - 0s 6ms/step - loss: 0.4296 - mse: 0.4296 - val_loss: 0.3118 - val_mse: 0.3118\n",
            "Epoch 18/30\n",
            "4/4 [==============================] - 0s 5ms/step - loss: 0.5360 - mse: 0.5360 - val_loss: 0.3046 - val_mse: 0.3046\n",
            "Epoch 19/30\n",
            "4/4 [==============================] - 0s 5ms/step - loss: 0.4595 - mse: 0.4595 - val_loss: 0.2897 - val_mse: 0.2897\n",
            "Epoch 20/30\n",
            "4/4 [==============================] - 0s 6ms/step - loss: 0.4400 - mse: 0.4400 - val_loss: 0.2940 - val_mse: 0.2940\n",
            "Epoch 21/30\n",
            "4/4 [==============================] - 0s 5ms/step - loss: 0.4398 - mse: 0.4398 - val_loss: 0.3042 - val_mse: 0.3042\n",
            "Epoch 22/30\n",
            "4/4 [==============================] - 0s 5ms/step - loss: 0.4282 - mse: 0.4282 - val_loss: 0.3370 - val_mse: 0.3370\n",
            "Epoch 23/30\n",
            "4/4 [==============================] - 0s 5ms/step - loss: 0.4885 - mse: 0.4885 - val_loss: 0.3309 - val_mse: 0.3309\n"
          ],
          "name": "stdout"
        },
        {
          "output_type": "execute_result",
          "data": {
            "application/vnd.google.colaboratory.intrinsic+json": {
              "type": "string"
            },
            "text/plain": [
              "'\\n\\nmodel.add(Embedding(max_features, embed_size))\\nmodel.add(Bidirectional(LSTM(32, return_sequences = True)))\\nmodel.add(GlobalMaxPool1D())\\n'"
            ]
          },
          "metadata": {
            "tags": []
          },
          "execution_count": 35
        }
      ]
    },
    {
      "cell_type": "code",
      "metadata": {
        "id": "Z0gN4vMIAP3Z",
        "colab": {
          "base_uri": "https://localhost:8080/"
        },
        "outputId": "06095181-c099-4f8d-dd1c-0eb571f0984b"
      },
      "source": [
        "y_pred=model.predict(X_test)\n",
        "mean_squared_error(y_test,y_pred)"
      ],
      "execution_count": 36,
      "outputs": [
        {
          "output_type": "execute_result",
          "data": {
            "text/plain": [
              "0.4045337879765494"
            ]
          },
          "metadata": {
            "tags": []
          },
          "execution_count": 36
        }
      ]
    },
    {
      "cell_type": "code",
      "metadata": {
        "id": "iHyPC_znU_kX",
        "outputId": "4d95a270-9567-40b6-bdb5-bc250cd410bf",
        "colab": {
          "base_uri": "https://localhost:8080/",
          "height": 402
        }
      },
      "source": [
        "dict_={\"y_test\":y_test,\"y_pred\":list(y_pred)}\n",
        "output_df=pd.DataFrame(dict_)\n",
        "output_df.head(100)"
      ],
      "execution_count": 38,
      "outputs": [
        {
          "output_type": "execute_result",
          "data": {
            "text/html": [
              "<div>\n",
              "<style scoped>\n",
              "    .dataframe tbody tr th:only-of-type {\n",
              "        vertical-align: middle;\n",
              "    }\n",
              "\n",
              "    .dataframe tbody tr th {\n",
              "        vertical-align: top;\n",
              "    }\n",
              "\n",
              "    .dataframe thead th {\n",
              "        text-align: right;\n",
              "    }\n",
              "</style>\n",
              "<table border=\"1\" class=\"dataframe\">\n",
              "  <thead>\n",
              "    <tr style=\"text-align: right;\">\n",
              "      <th></th>\n",
              "      <th>y_test</th>\n",
              "      <th>y_pred</th>\n",
              "    </tr>\n",
              "  </thead>\n",
              "  <tbody>\n",
              "    <tr>\n",
              "      <th>0</th>\n",
              "      <td>2.75</td>\n",
              "      <td>[2.507499]</td>\n",
              "    </tr>\n",
              "    <tr>\n",
              "      <th>1</th>\n",
              "      <td>2.00</td>\n",
              "      <td>[2.4338665]</td>\n",
              "    </tr>\n",
              "    <tr>\n",
              "      <th>2</th>\n",
              "      <td>2.00</td>\n",
              "      <td>[2.5095768]</td>\n",
              "    </tr>\n",
              "    <tr>\n",
              "      <th>3</th>\n",
              "      <td>2.00</td>\n",
              "      <td>[2.4709992]</td>\n",
              "    </tr>\n",
              "    <tr>\n",
              "      <th>4</th>\n",
              "      <td>2.50</td>\n",
              "      <td>[2.7381663]</td>\n",
              "    </tr>\n",
              "    <tr>\n",
              "      <th>...</th>\n",
              "      <td>...</td>\n",
              "      <td>...</td>\n",
              "    </tr>\n",
              "    <tr>\n",
              "      <th>95</th>\n",
              "      <td>3.00</td>\n",
              "      <td>[2.5244994]</td>\n",
              "    </tr>\n",
              "    <tr>\n",
              "      <th>96</th>\n",
              "      <td>3.00</td>\n",
              "      <td>[2.6113648]</td>\n",
              "    </tr>\n",
              "    <tr>\n",
              "      <th>97</th>\n",
              "      <td>2.00</td>\n",
              "      <td>[2.7036061]</td>\n",
              "    </tr>\n",
              "    <tr>\n",
              "      <th>98</th>\n",
              "      <td>3.00</td>\n",
              "      <td>[2.446112]</td>\n",
              "    </tr>\n",
              "    <tr>\n",
              "      <th>99</th>\n",
              "      <td>3.50</td>\n",
              "      <td>[2.9090405]</td>\n",
              "    </tr>\n",
              "  </tbody>\n",
              "</table>\n",
              "<p>100 rows × 2 columns</p>\n",
              "</div>"
            ],
            "text/plain": [
              "    y_test       y_pred\n",
              "0     2.75   [2.507499]\n",
              "1     2.00  [2.4338665]\n",
              "2     2.00  [2.5095768]\n",
              "3     2.00  [2.4709992]\n",
              "4     2.50  [2.7381663]\n",
              "..     ...          ...\n",
              "95    3.00  [2.5244994]\n",
              "96    3.00  [2.6113648]\n",
              "97    2.00  [2.7036061]\n",
              "98    3.00   [2.446112]\n",
              "99    3.50  [2.9090405]\n",
              "\n",
              "[100 rows x 2 columns]"
            ]
          },
          "metadata": {
            "tags": []
          },
          "execution_count": 38
        }
      ]
    },
    {
      "cell_type": "markdown",
      "metadata": {
        "id": "sSYsQAXP1q7a"
      },
      "source": [
        ""
      ]
    },
    {
      "cell_type": "code",
      "metadata": {
        "id": "lPYtLSdJ6AaU",
        "colab": {
          "base_uri": "https://localhost:8080/"
        },
        "outputId": "a2019d9d-5acf-4f61-b1a7-bcc165c74f43"
      },
      "source": [
        "# I will create second similar NN but using Embending, LSTM\n",
        "model2=Sequential()\n",
        "model2.add(layers.Embedding(input_dim=1000,output_dim=130))\n",
        "\n",
        "model2.add(layers.LSTM(units=130))\n",
        "\n",
        "model2.add(layers.Dense(units=1))\n",
        "model2.compile(loss='mean_squared_error', optimizer='RMSprop', metrics=['mse'])\n",
        "batch_size = 100\n",
        "epochs = 15\n",
        "callbacks=[EarlyStopping(monitor='val_loss',patience=4)]\n",
        "model2.fit(X_train,y_train, batch_size=batch_size, epochs=epochs, validation_split=0.2,callbacks=callbacks)"
      ],
      "execution_count": 39,
      "outputs": [
        {
          "output_type": "stream",
          "text": [
            "Epoch 1/15\n",
            "4/4 [==============================] - 2s 440ms/step - loss: 5.7235 - mse: 5.7235 - val_loss: 0.3291 - val_mse: 0.3291\n",
            "Epoch 2/15\n",
            "4/4 [==============================] - 1s 332ms/step - loss: 0.3586 - mse: 0.3586 - val_loss: 0.3105 - val_mse: 0.3105\n",
            "Epoch 3/15\n",
            "4/4 [==============================] - 1s 333ms/step - loss: 0.3492 - mse: 0.3492 - val_loss: 0.3181 - val_mse: 0.3181\n",
            "Epoch 4/15\n",
            "4/4 [==============================] - 1s 322ms/step - loss: 0.3543 - mse: 0.3543 - val_loss: 0.4244 - val_mse: 0.4244\n",
            "Epoch 5/15\n",
            "4/4 [==============================] - 1s 326ms/step - loss: 0.4828 - mse: 0.4828 - val_loss: 0.3405 - val_mse: 0.3405\n",
            "Epoch 6/15\n",
            "4/4 [==============================] - 1s 324ms/step - loss: 0.3601 - mse: 0.3601 - val_loss: 0.3103 - val_mse: 0.3103\n",
            "Epoch 7/15\n",
            "4/4 [==============================] - 1s 322ms/step - loss: 0.3502 - mse: 0.3502 - val_loss: 0.5049 - val_mse: 0.5049\n",
            "Epoch 8/15\n",
            "4/4 [==============================] - 1s 320ms/step - loss: 0.5361 - mse: 0.5361 - val_loss: 0.3566 - val_mse: 0.3566\n",
            "Epoch 9/15\n",
            "4/4 [==============================] - 1s 324ms/step - loss: 0.4181 - mse: 0.4181 - val_loss: 0.3140 - val_mse: 0.3140\n",
            "Epoch 10/15\n",
            "4/4 [==============================] - 1s 320ms/step - loss: 0.3490 - mse: 0.3490 - val_loss: 0.3171 - val_mse: 0.3171\n"
          ],
          "name": "stdout"
        },
        {
          "output_type": "execute_result",
          "data": {
            "text/plain": [
              "<tensorflow.python.keras.callbacks.History at 0x7f094582ecf8>"
            ]
          },
          "metadata": {
            "tags": []
          },
          "execution_count": 39
        }
      ]
    },
    {
      "cell_type": "code",
      "metadata": {
        "id": "NbqIIjWpZn96",
        "colab": {
          "base_uri": "https://localhost:8080/"
        },
        "outputId": "852df821-3ccb-4862-c3df-17974365bcf5"
      },
      "source": [
        "y_pred=model2.predict(X_test)\n",
        "mean_squared_error(y_test,y_pred)"
      ],
      "execution_count": 40,
      "outputs": [
        {
          "output_type": "execute_result",
          "data": {
            "text/plain": [
              "0.39836243034010493"
            ]
          },
          "metadata": {
            "tags": []
          },
          "execution_count": 40
        }
      ]
    },
    {
      "cell_type": "code",
      "metadata": {
        "id": "rzNPjewtA0vy"
      },
      "source": [
        "sum(tokenizer.texts_to_matrix(df_train['ReviewInTamil']))"
      ],
      "execution_count": null,
      "outputs": []
    }
  ]
}