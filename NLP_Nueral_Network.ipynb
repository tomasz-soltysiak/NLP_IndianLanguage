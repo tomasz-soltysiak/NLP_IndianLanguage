{
  "nbformat": 4,
  "nbformat_minor": 0,
  "metadata": {
    "colab": {
      "name": "NLP_models.ipynb",
      "provenance": [],
      "include_colab_link": true
    },
    "kernelspec": {
      "name": "python3",
      "display_name": "Python 3"
    }
  },
  "cells": [
    {
      "cell_type": "markdown",
      "metadata": {
        "id": "view-in-github",
        "colab_type": "text"
      },
      "source": [
        "<a href=\"https://colab.research.google.com/github/tomasz-soltysiak/NLP_IndianLanguage/blob/master/NLP_Nueral_Network.ipynb\" target=\"_parent\"><img src=\"https://colab.research.google.com/assets/colab-badge.svg\" alt=\"Open In Colab\"/></a>"
      ]
    },
    {
      "cell_type": "code",
      "metadata": {
        "colab_type": "code",
        "id": "5abZVHp7_U_B",
        "colab": {}
      },
      "source": [
        "import matplotlib.patches as mpatches\n",
        "import pandas as pd\n",
        "import matplotlib.pyplot as plt\n",
        "import seaborn as sns\n",
        "import numpy as np\n",
        "from sklearn.preprocessing import RobustScaler, StandardScaler\n",
        "from sklearn.model_selection import train_test_split,StratifiedKFold\n",
        "from sklearn.manifold import TSNE\n",
        "from sklearn.cluster import KMeans\n",
        "from sklearn.decomposition import PCA\n",
        "from sklearn.linear_model import LinearRegression, Lasso\n",
        "from sklearn.model_selection import cross_val_score\n",
        "from sklearn.metrics import recall_score, precision_score, f1_score, accuracy_score,roc_curve,confusion_matrix,roc_auc_score, mean_squared_error\n",
        "from sklearn.ensemble import RandomForestClassifier\n",
        "from sklearn.neighbors import KNeighborsClassifier\n",
        "from sklearn.feature_extraction.text import CountVectorizer\n",
        "from sklearn.feature_extraction.text import TfidfVectorizer\n",
        "import re"
      ],
      "execution_count": 0,
      "outputs": []
    },
    {
      "cell_type": "code",
      "metadata": {
        "id": "HDb5PzMp_XCW",
        "colab_type": "code",
        "outputId": "196f2c72-00d6-4fbf-dd67-c1301cd0234e",
        "colab": {
          "base_uri": "https://localhost:8080/",
          "height": 34
        }
      },
      "source": [
        "df_train=pd.read_csv('/content/tamil_movie_reviews_train.csv',delimiter=',')\n",
        "df_test=pd.read_csv('/content/tamil_movie_reviews_test.csv',delimiter=',')\n",
        "df_train.shape"
      ],
      "execution_count": 3,
      "outputs": [
        {
          "output_type": "execute_result",
          "data": {
            "text/plain": [
              "(480, 3)"
            ]
          },
          "metadata": {
            "tags": []
          },
          "execution_count": 3
        }
      ]
    },
    {
      "cell_type": "code",
      "metadata": {
        "id": "7Esf8yDfAGOi",
        "colab_type": "code",
        "outputId": "24664ec1-fa07-4b67-cf88-691e5b30a264",
        "colab": {
          "base_uri": "https://localhost:8080/",
          "height": 195
        }
      },
      "source": [
        "import re\n",
        "from nltk.stem import WordNetLemmatizer\n",
        "from nltk.corpus import stopwords\n",
        "from nltk.stem.porter import PorterStemmer\n",
        "#stop_words = set(stopwords.words('')) \n",
        "porter=PorterStemmer()\n",
        "lemmatizer = WordNetLemmatizer()\n",
        "def clean_text(text):\n",
        "    text = re.sub(r'[^\\w\\s]','',text, re.UNICODE)\n",
        "    text = text.lower()\n",
        "    text = [porter.stem(word) for word in text]\n",
        "    #text = [lemmatizer.lemmatize(token) for token in text]\n",
        "    #text = [lemmatizer.lemmatize(token, \"v\") for token in text]\n",
        "    #text = [word for word in text if not word in stop_words]\n",
        "    text = \" \".join(text)\n",
        "    return text\n",
        "\n",
        "df_train['ReviewInTamil1'] = df_train.ReviewInTamil.apply(lambda x: clean_text(x))\n",
        "df_test['ReviewInTamil1'] = df_test.ReviewInTamil.apply(lambda x: clean_text(x))\n",
        "df_train.head()\n",
        "\n",
        "\n",
        "\n",
        "\n",
        "\n"
      ],
      "execution_count": 17,
      "outputs": [
        {
          "output_type": "execute_result",
          "data": {
            "text/html": [
              "<div>\n",
              "<style scoped>\n",
              "    .dataframe tbody tr th:only-of-type {\n",
              "        vertical-align: middle;\n",
              "    }\n",
              "\n",
              "    .dataframe tbody tr th {\n",
              "        vertical-align: top;\n",
              "    }\n",
              "\n",
              "    .dataframe thead th {\n",
              "        text-align: right;\n",
              "    }\n",
              "</style>\n",
              "<table border=\"1\" class=\"dataframe\">\n",
              "  <thead>\n",
              "    <tr style=\"text-align: right;\">\n",
              "      <th></th>\n",
              "      <th>ReviewId</th>\n",
              "      <th>ReviewInTamil</th>\n",
              "      <th>Rating</th>\n",
              "      <th>ReviewInTamil1</th>\n",
              "    </tr>\n",
              "  </thead>\n",
              "  <tbody>\n",
              "    <tr>\n",
              "      <th>0</th>\n",
              "      <td>408</td>\n",
              "      <td>தமிழ் சினிமாவில் ஒரு சிலர் மட்டுமே பணம், பிஸின...</td>\n",
              "      <td>4.00</td>\n",
              "      <td>த ம ழ   ச ன ம வ ல   ஒ ர   ச ல ர   ம ட ட ம   ப ...</td>\n",
              "    </tr>\n",
              "    <tr>\n",
              "      <th>1</th>\n",
              "      <td>107</td>\n",
              "      <td>கரு : சினிமா படப்பிடிப்புகளில் வெளிச்சம் பாய்ச...</td>\n",
              "      <td>2.00</td>\n",
              "      <td>க ர     ச ன ம   ப ட ப ப ட ப ப க ள ல   வ ள ச ச ...</td>\n",
              "    </tr>\n",
              "    <tr>\n",
              "      <th>2</th>\n",
              "      <td>319</td>\n",
              "      <td>தமிழ் சினிமாவில் தற்போது நாயகர்களுக்கு இணையாக ...</td>\n",
              "      <td>3.25</td>\n",
              "      <td>த ம ழ   ச ன ம வ ல   த ற ப த   ந ய க ர க ள க க ...</td>\n",
              "    </tr>\n",
              "    <tr>\n",
              "      <th>3</th>\n",
              "      <td>484</td>\n",
              "      <td>உலக அளவில் அனைத்து தரப்பினரையும் தன் நடிப்பால்...</td>\n",
              "      <td>2.25</td>\n",
              "      <td>உ ல க   அ ள வ ல   அ ன த த   த ர ப ப ன ர ய ம   ...</td>\n",
              "    </tr>\n",
              "    <tr>\n",
              "      <th>4</th>\n",
              "      <td>204</td>\n",
              "      <td>கரு : வில்லனின் கையாள் , வில்லன் செய்த நம்பிக்...</td>\n",
              "      <td>3.00</td>\n",
              "      <td>க ர     வ ல ல ன ன   க ய ள     வ ல ல ன   ச ய த ...</td>\n",
              "    </tr>\n",
              "  </tbody>\n",
              "</table>\n",
              "</div>"
            ],
            "text/plain": [
              "   ReviewId  ...                                     ReviewInTamil1\n",
              "0       408  ...  த ம ழ   ச ன ம வ ல   ஒ ர   ச ல ர   ம ட ட ம   ப ...\n",
              "1       107  ...  க ர     ச ன ம   ப ட ப ப ட ப ப க ள ல   வ ள ச ச ...\n",
              "2       319  ...  த ம ழ   ச ன ம வ ல   த ற ப த   ந ய க ர க ள க க ...\n",
              "3       484  ...  உ ல க   அ ள வ ல   அ ன த த   த ர ப ப ன ர ய ம   ...\n",
              "4       204  ...  க ர     வ ல ல ன ன   க ய ள     வ ல ல ன   ச ய த ...\n",
              "\n",
              "[5 rows x 4 columns]"
            ]
          },
          "metadata": {
            "tags": []
          },
          "execution_count": 17
        }
      ]
    },
    {
      "cell_type": "code",
      "metadata": {
        "id": "4s_BnYiZ1LpG",
        "colab_type": "code",
        "outputId": "d8e5f9e3-abbe-4f07-fa34-0b6eb499177d",
        "colab": {
          "base_uri": "https://localhost:8080/",
          "height": 642
        }
      },
      "source": [
        "from keras.preprocessing.text import Tokenizer\n",
        "from keras.preprocessing.sequence import pad_sequences\n",
        "from keras.layers import Dense , Input , LSTM , Embedding, Dropout , Activation, GRU, Flatten\n",
        "from keras.layers import Bidirectional, GlobalMaxPool1D\n",
        "from keras.models import Model, Sequential\n",
        "from keras.layers import Convolution1D\n",
        "from keras.callbacks import EarlyStopping,ModelCheckpoint\n",
        "from keras import initializers, regularizers, constraints, optimizers, layers\n",
        "max_features = 130\n",
        "tokenizer=Tokenizer(num_words=max_features)\n",
        "scaler=StandardScaler()\n",
        "tokenizer.fit_on_texts(df_train['ReviewInTamil1'])\n",
        "list_tokenized_train = tokenizer.texts_to_sequences(df_train['ReviewInTamil1'])\n",
        "\n",
        "\n",
        "#list_tokenized_test = tokenizer.texts_to_sequences(df_test['ReviewInTamil1'])\n",
        "maxlen = 130\n",
        "\n",
        "X_train = tokenizer.texts_to_matrix(df_train['ReviewInTamil1'])\n",
        "#X_train=scaler.fit_transform(X_train)\n",
        "y_train = df_train['Rating']\n",
        "#y_train=np.array(scaler.fit_transform(y_train))\n",
        "\n",
        "X_test = tokenizer.texts_to_matrix(df_test['ReviewInTamil1'])\n",
        "y_test = df_test['Rating']\n",
        "\n",
        "embed_size = 128\n",
        "model = Sequential()\n",
        "\n",
        "model.add(layers.Dense(units=32,input_shape=(130,)))\n",
        "model.add(Dropout(0.05))\n",
        "model.add(layers.Dense(20, activation=\"relu\"))\n",
        "model.add(Dropout(0.05))\n",
        "model.add(layers.Dense(1))\n",
        "\n",
        "model.compile(loss='mean_squared_error', optimizer='RMSprop', metrics=['mse'])\n",
        "\n",
        "batch_size = 100\n",
        "epochs = 30\n",
        "callbacks=[EarlyStopping(monitor='val_loss',patience=4)]\n",
        "model.fit(X_train,y_train, batch_size=batch_size, epochs=epochs, validation_split=0.2,callbacks=callbacks)\n",
        "'''\n",
        "\n",
        "model.add(Embedding(max_features, embed_size))\n",
        "model.add(Bidirectional(LSTM(32, return_sequences = True)))\n",
        "model.add(GlobalMaxPool1D())\n",
        "'''"
      ],
      "execution_count": 40,
      "outputs": [
        {
          "output_type": "stream",
          "text": [
            "Train on 384 samples, validate on 96 samples\n",
            "Epoch 1/30\n",
            "384/384 [==============================] - 3s 7ms/step - loss: 6.2725 - mean_squared_error: 6.2725 - val_loss: 1.4740 - val_mean_squared_error: 1.4740\n",
            "Epoch 2/30\n",
            "384/384 [==============================] - 0s 44us/step - loss: 1.2715 - mean_squared_error: 1.2715 - val_loss: 0.4666 - val_mean_squared_error: 0.4666\n",
            "Epoch 3/30\n",
            "384/384 [==============================] - 0s 45us/step - loss: 0.6900 - mean_squared_error: 0.6900 - val_loss: 0.3814 - val_mean_squared_error: 0.3814\n",
            "Epoch 4/30\n",
            "384/384 [==============================] - 0s 38us/step - loss: 0.7119 - mean_squared_error: 0.7119 - val_loss: 0.3388 - val_mean_squared_error: 0.3388\n",
            "Epoch 5/30\n",
            "384/384 [==============================] - 0s 39us/step - loss: 0.6779 - mean_squared_error: 0.6779 - val_loss: 0.3270 - val_mean_squared_error: 0.3270\n",
            "Epoch 6/30\n",
            "384/384 [==============================] - 0s 32us/step - loss: 0.5756 - mean_squared_error: 0.5756 - val_loss: 0.3214 - val_mean_squared_error: 0.3214\n",
            "Epoch 7/30\n",
            "384/384 [==============================] - 0s 31us/step - loss: 0.5851 - mean_squared_error: 0.5851 - val_loss: 0.3356 - val_mean_squared_error: 0.3356\n",
            "Epoch 8/30\n",
            "384/384 [==============================] - 0s 30us/step - loss: 0.5568 - mean_squared_error: 0.5568 - val_loss: 0.3088 - val_mean_squared_error: 0.3088\n",
            "Epoch 9/30\n",
            "384/384 [==============================] - 0s 34us/step - loss: 0.5080 - mean_squared_error: 0.5080 - val_loss: 0.3038 - val_mean_squared_error: 0.3038\n",
            "Epoch 10/30\n",
            "384/384 [==============================] - 0s 30us/step - loss: 0.5367 - mean_squared_error: 0.5367 - val_loss: 0.3062 - val_mean_squared_error: 0.3062\n",
            "Epoch 11/30\n",
            "384/384 [==============================] - 0s 29us/step - loss: 0.4982 - mean_squared_error: 0.4982 - val_loss: 0.3028 - val_mean_squared_error: 0.3028\n",
            "Epoch 12/30\n",
            "384/384 [==============================] - 0s 30us/step - loss: 0.5006 - mean_squared_error: 0.5006 - val_loss: 0.3216 - val_mean_squared_error: 0.3216\n",
            "Epoch 13/30\n",
            "384/384 [==============================] - 0s 31us/step - loss: 0.4791 - mean_squared_error: 0.4791 - val_loss: 0.2992 - val_mean_squared_error: 0.2992\n",
            "Epoch 14/30\n",
            "384/384 [==============================] - 0s 32us/step - loss: 0.4964 - mean_squared_error: 0.4964 - val_loss: 0.3700 - val_mean_squared_error: 0.3700\n",
            "Epoch 15/30\n",
            "384/384 [==============================] - 0s 39us/step - loss: 0.5805 - mean_squared_error: 0.5805 - val_loss: 0.3154 - val_mean_squared_error: 0.3154\n",
            "Epoch 16/30\n",
            "384/384 [==============================] - 0s 33us/step - loss: 0.5023 - mean_squared_error: 0.5023 - val_loss: 0.3070 - val_mean_squared_error: 0.3070\n",
            "Epoch 17/30\n",
            "384/384 [==============================] - 0s 37us/step - loss: 0.5404 - mean_squared_error: 0.5404 - val_loss: 0.3110 - val_mean_squared_error: 0.3110\n"
          ],
          "name": "stdout"
        },
        {
          "output_type": "execute_result",
          "data": {
            "text/plain": [
              "'\\n\\nmodel.add(Embedding(max_features, embed_size))\\nmodel.add(Bidirectional(LSTM(32, return_sequences = True)))\\nmodel.add(GlobalMaxPool1D())\\n'"
            ]
          },
          "metadata": {
            "tags": []
          },
          "execution_count": 40
        }
      ]
    },
    {
      "cell_type": "code",
      "metadata": {
        "id": "Z0gN4vMIAP3Z",
        "colab_type": "code",
        "outputId": "2c8e6324-a388-49bd-ec9d-dd921a4a51b3",
        "colab": {
          "base_uri": "https://localhost:8080/",
          "height": 34
        }
      },
      "source": [
        "y_pred=model.predict(X_test)\n",
        "mean_squared_error(y_test,y_pred)"
      ],
      "execution_count": 41,
      "outputs": [
        {
          "output_type": "execute_result",
          "data": {
            "text/plain": [
              "0.3894156240511477"
            ]
          },
          "metadata": {
            "tags": []
          },
          "execution_count": 41
        }
      ]
    },
    {
      "cell_type": "markdown",
      "metadata": {
        "id": "sSYsQAXP1q7a",
        "colab_type": "text"
      },
      "source": [
        ""
      ]
    },
    {
      "cell_type": "code",
      "metadata": {
        "id": "lPYtLSdJ6AaU",
        "colab_type": "code",
        "outputId": "dfee9129-3217-488f-84d2-e957500d4297",
        "colab": {
          "base_uri": "https://localhost:8080/",
          "height": 306
        }
      },
      "source": [
        "# I will create second similar NN but using Embending, LSTM\n",
        "model2=Sequential()\n",
        "model2.add(layers.Embedding(input_dim=1000,output_dim=130))\n",
        "\n",
        "model2.add(layers.LSTM(units=130))\n",
        "\n",
        "model2.add(layers.Dense(units=1))\n",
        "model2.compile(loss='mean_squared_error', optimizer='RMSprop', metrics=['mse'])\n",
        "batch_size = 100\n",
        "epochs = 15\n",
        "callbacks=[EarlyStopping(monitor='val_loss',patience=4)]\n",
        "model2.fit(X_train,y_train, batch_size=batch_size, epochs=epochs, validation_split=0.2,callbacks=callbacks)"
      ],
      "execution_count": 42,
      "outputs": [
        {
          "output_type": "stream",
          "text": [
            "Train on 384 samples, validate on 96 samples\n",
            "Epoch 1/15\n",
            "384/384 [==============================] - 5s 13ms/step - loss: 5.6550 - mean_squared_error: 5.6550 - val_loss: 2.9991 - val_mean_squared_error: 2.9991\n",
            "Epoch 2/15\n",
            "384/384 [==============================] - 2s 5ms/step - loss: 1.6914 - mean_squared_error: 1.6914 - val_loss: 0.3105 - val_mean_squared_error: 0.3105\n",
            "Epoch 3/15\n",
            "384/384 [==============================] - 2s 5ms/step - loss: 0.3511 - mean_squared_error: 0.3511 - val_loss: 0.3104 - val_mean_squared_error: 0.3104\n",
            "Epoch 4/15\n",
            "384/384 [==============================] - 2s 4ms/step - loss: 0.3467 - mean_squared_error: 0.3467 - val_loss: 0.3118 - val_mean_squared_error: 0.3118\n",
            "Epoch 5/15\n",
            "384/384 [==============================] - 2s 4ms/step - loss: 0.3476 - mean_squared_error: 0.3476 - val_loss: 0.3115 - val_mean_squared_error: 0.3115\n",
            "Epoch 6/15\n",
            "384/384 [==============================] - 2s 4ms/step - loss: 0.3545 - mean_squared_error: 0.3545 - val_loss: 0.4156 - val_mean_squared_error: 0.4156\n",
            "Epoch 7/15\n",
            "384/384 [==============================] - 2s 4ms/step - loss: 0.5463 - mean_squared_error: 0.5463 - val_loss: 0.3788 - val_mean_squared_error: 0.3788\n"
          ],
          "name": "stdout"
        },
        {
          "output_type": "execute_result",
          "data": {
            "text/plain": [
              "<keras.callbacks.History at 0x7fa9a6327d68>"
            ]
          },
          "metadata": {
            "tags": []
          },
          "execution_count": 42
        }
      ]
    },
    {
      "cell_type": "code",
      "metadata": {
        "id": "NbqIIjWpZn96",
        "colab_type": "code",
        "colab": {
          "base_uri": "https://localhost:8080/",
          "height": 34
        },
        "outputId": "0d90d978-8e30-4231-8b89-a0a8088a4b15"
      },
      "source": [
        "y_pred=model2.predict(X_test)\n",
        "mean_squared_error(y_test,y_pred)"
      ],
      "execution_count": 44,
      "outputs": [
        {
          "output_type": "execute_result",
          "data": {
            "text/plain": [
              "0.4626614361151236"
            ]
          },
          "metadata": {
            "tags": []
          },
          "execution_count": 44
        }
      ]
    },
    {
      "cell_type": "code",
      "metadata": {
        "id": "rzNPjewtA0vy",
        "colab_type": "code",
        "outputId": "049f3d3d-6163-419f-f44b-a6e37c46a7b8",
        "colab": {
          "base_uri": "https://localhost:8080/",
          "height": 34
        }
      },
      "source": [
        "X_train.shape"
      ],
      "execution_count": 9,
      "outputs": [
        {
          "output_type": "execute_result",
          "data": {
            "text/plain": [
              "(480, 130)"
            ]
          },
          "metadata": {
            "tags": []
          },
          "execution_count": 9
        }
      ]
    }
  ]
}