{
  "nbformat": 4,
  "nbformat_minor": 0,
  "metadata": {
    "colab": {
      "name": "NLP_models.ipynb",
      "provenance": [],
      "include_colab_link": true
    },
    "kernelspec": {
      "name": "python3",
      "display_name": "Python 3"
    }
  },
  "cells": [
    {
      "cell_type": "markdown",
      "metadata": {
        "id": "view-in-github",
        "colab_type": "text"
      },
      "source": [
        "<a href=\"https://colab.research.google.com/github/tomasz-soltysiak/NLP_IndianLanguage/blob/master/NLP_Nueral_Network.ipynb\" target=\"_parent\"><img src=\"https://colab.research.google.com/assets/colab-badge.svg\" alt=\"Open In Colab\"/></a>"
      ]
    },
    {
      "cell_type": "code",
      "metadata": {
        "colab_type": "code",
        "id": "5abZVHp7_U_B",
        "colab": {}
      },
      "source": [
        "import matplotlib.patches as mpatches\n",
        "import pandas as pd\n",
        "import matplotlib.pyplot as plt\n",
        "import seaborn as sns\n",
        "import numpy as np\n",
        "from sklearn.preprocessing import RobustScaler, StandardScaler\n",
        "from sklearn.model_selection import train_test_split,StratifiedKFold\n",
        "from sklearn.manifold import TSNE\n",
        "from sklearn.cluster import KMeans\n",
        "from sklearn.decomposition import PCA\n",
        "from sklearn.linear_model import LinearRegression, Lasso\n",
        "from sklearn.model_selection import cross_val_score\n",
        "from sklearn.metrics import recall_score, precision_score, f1_score, accuracy_score,roc_curve,confusion_matrix,roc_auc_score, mean_squared_error\n",
        "from sklearn.ensemble import RandomForestClassifier\n",
        "from sklearn.neighbors import KNeighborsClassifier\n",
        "import re"
      ],
      "execution_count": 0,
      "outputs": []
    },
    {
      "cell_type": "code",
      "metadata": {
        "id": "HDb5PzMp_XCW",
        "colab_type": "code",
        "outputId": "bb799b40-5a2f-4644-ac48-96814d7418c9",
        "colab": {
          "base_uri": "https://localhost:8080/",
          "height": 195
        }
      },
      "source": [
        "df_train=pd.read_csv('/content/tamil_movie_reviews_train.csv',delimiter=',')\n",
        "df_test=pd.read_csv('/content/tamil_movie_reviews_test.csv',delimiter=',')\n",
        "df_train.head()"
      ],
      "execution_count": 8,
      "outputs": [
        {
          "output_type": "execute_result",
          "data": {
            "text/html": [
              "<div>\n",
              "<style scoped>\n",
              "    .dataframe tbody tr th:only-of-type {\n",
              "        vertical-align: middle;\n",
              "    }\n",
              "\n",
              "    .dataframe tbody tr th {\n",
              "        vertical-align: top;\n",
              "    }\n",
              "\n",
              "    .dataframe thead th {\n",
              "        text-align: right;\n",
              "    }\n",
              "</style>\n",
              "<table border=\"1\" class=\"dataframe\">\n",
              "  <thead>\n",
              "    <tr style=\"text-align: right;\">\n",
              "      <th></th>\n",
              "      <th>ReviewId</th>\n",
              "      <th>ReviewInTamil</th>\n",
              "      <th>Rating</th>\n",
              "    </tr>\n",
              "  </thead>\n",
              "  <tbody>\n",
              "    <tr>\n",
              "      <th>0</th>\n",
              "      <td>408</td>\n",
              "      <td>தமிழ் சினிமாவில் ஒரு சிலர் மட்டுமே பணம், பிஸின...</td>\n",
              "      <td>4.00</td>\n",
              "    </tr>\n",
              "    <tr>\n",
              "      <th>1</th>\n",
              "      <td>107</td>\n",
              "      <td>கரு : சினிமா படப்பிடிப்புகளில் வெளிச்சம் பாய்ச...</td>\n",
              "      <td>2.00</td>\n",
              "    </tr>\n",
              "    <tr>\n",
              "      <th>2</th>\n",
              "      <td>319</td>\n",
              "      <td>தமிழ் சினிமாவில் தற்போது நாயகர்களுக்கு இணையாக ...</td>\n",
              "      <td>3.25</td>\n",
              "    </tr>\n",
              "    <tr>\n",
              "      <th>3</th>\n",
              "      <td>484</td>\n",
              "      <td>உலக அளவில் அனைத்து தரப்பினரையும் தன் நடிப்பால்...</td>\n",
              "      <td>2.25</td>\n",
              "    </tr>\n",
              "    <tr>\n",
              "      <th>4</th>\n",
              "      <td>204</td>\n",
              "      <td>கரு : வில்லனின் கையாள் , வில்லன் செய்த நம்பிக்...</td>\n",
              "      <td>3.00</td>\n",
              "    </tr>\n",
              "  </tbody>\n",
              "</table>\n",
              "</div>"
            ],
            "text/plain": [
              "   ReviewId                                      ReviewInTamil  Rating\n",
              "0       408  தமிழ் சினிமாவில் ஒரு சிலர் மட்டுமே பணம், பிஸின...    4.00\n",
              "1       107  கரு : சினிமா படப்பிடிப்புகளில் வெளிச்சம் பாய்ச...    2.00\n",
              "2       319  தமிழ் சினிமாவில் தற்போது நாயகர்களுக்கு இணையாக ...    3.25\n",
              "3       484  உலக அளவில் அனைத்து தரப்பினரையும் தன் நடிப்பால்...    2.25\n",
              "4       204  கரு : வில்லனின் கையாள் , வில்லன் செய்த நம்பிக்...    3.00"
            ]
          },
          "metadata": {
            "tags": []
          },
          "execution_count": 8
        }
      ]
    },
    {
      "cell_type": "code",
      "metadata": {
        "id": "7Esf8yDfAGOi",
        "colab_type": "code",
        "outputId": "7c0b163c-8bd5-43a9-8541-73e12c238694",
        "colab": {
          "base_uri": "https://localhost:8080/",
          "height": 195
        }
      },
      "source": [
        "import re\n",
        "from nltk.stem import WordNetLemmatizer\n",
        "from nltk.corpus import stopwords\n",
        "from nltk.stem.porter import PorterStemmer\n",
        "#stop_words = set(stopwords.words('')) \n",
        "porter=PorterStemmer()\n",
        "lemmatizer = WordNetLemmatizer()\n",
        "def clean_text(text):\n",
        "    text = re.sub(r'[^\\w\\s]','',text, re.UNICODE)\n",
        "    text = text.lower()\n",
        "    text = [porter.stem(word) for word in text]\n",
        "    #text = [lemmatizer.lemmatize(token) for token in text]\n",
        "    #text = [lemmatizer.lemmatize(token, \"v\") for token in text]\n",
        "    #text = [word for word in text if not word in stop_words]\n",
        "    #text = \" \".join(text)\n",
        "    return text\n",
        "\n",
        "df_train['ReviewInTamil1'] = df_train.ReviewInTamil.apply(lambda x: clean_text(x))\n",
        "df_test['ReviewInTamil1'] = df_test.ReviewInTamil.apply(lambda x: clean_text(x))\n",
        "df_train.head()\n",
        "\n",
        "\n",
        "\n",
        "\n",
        "\n"
      ],
      "execution_count": 12,
      "outputs": [
        {
          "output_type": "execute_result",
          "data": {
            "text/html": [
              "<div>\n",
              "<style scoped>\n",
              "    .dataframe tbody tr th:only-of-type {\n",
              "        vertical-align: middle;\n",
              "    }\n",
              "\n",
              "    .dataframe tbody tr th {\n",
              "        vertical-align: top;\n",
              "    }\n",
              "\n",
              "    .dataframe thead th {\n",
              "        text-align: right;\n",
              "    }\n",
              "</style>\n",
              "<table border=\"1\" class=\"dataframe\">\n",
              "  <thead>\n",
              "    <tr style=\"text-align: right;\">\n",
              "      <th></th>\n",
              "      <th>ReviewId</th>\n",
              "      <th>ReviewInTamil</th>\n",
              "      <th>Rating</th>\n",
              "      <th>ReviewInTamil1</th>\n",
              "    </tr>\n",
              "  </thead>\n",
              "  <tbody>\n",
              "    <tr>\n",
              "      <th>0</th>\n",
              "      <td>408</td>\n",
              "      <td>தமிழ் சினிமாவில் ஒரு சிலர் மட்டுமே பணம், பிஸின...</td>\n",
              "      <td>4.00</td>\n",
              "      <td>[த, ம, ழ,  , ச, ன, ம, வ, ல,  , ஒ, ர,  , ச, ல, ...</td>\n",
              "    </tr>\n",
              "    <tr>\n",
              "      <th>1</th>\n",
              "      <td>107</td>\n",
              "      <td>கரு : சினிமா படப்பிடிப்புகளில் வெளிச்சம் பாய்ச...</td>\n",
              "      <td>2.00</td>\n",
              "      <td>[க, ர,  ,  , ச, ன, ம,  , ப, ட, ப, ப, ட, ப, ப, ...</td>\n",
              "    </tr>\n",
              "    <tr>\n",
              "      <th>2</th>\n",
              "      <td>319</td>\n",
              "      <td>தமிழ் சினிமாவில் தற்போது நாயகர்களுக்கு இணையாக ...</td>\n",
              "      <td>3.25</td>\n",
              "      <td>[த, ம, ழ,  , ச, ன, ம, வ, ல,  , த, ற, ப, த,  , ...</td>\n",
              "    </tr>\n",
              "    <tr>\n",
              "      <th>3</th>\n",
              "      <td>484</td>\n",
              "      <td>உலக அளவில் அனைத்து தரப்பினரையும் தன் நடிப்பால்...</td>\n",
              "      <td>2.25</td>\n",
              "      <td>[உ, ல, க,  , அ, ள, வ, ல,  , அ, ன, த, த,  , த, ...</td>\n",
              "    </tr>\n",
              "    <tr>\n",
              "      <th>4</th>\n",
              "      <td>204</td>\n",
              "      <td>கரு : வில்லனின் கையாள் , வில்லன் செய்த நம்பிக்...</td>\n",
              "      <td>3.00</td>\n",
              "      <td>[க, ர,  ,  , வ, ல, ல, ன, ன,  , க, ய, ள,  ,  , ...</td>\n",
              "    </tr>\n",
              "  </tbody>\n",
              "</table>\n",
              "</div>"
            ],
            "text/plain": [
              "   ReviewId  ...                                     ReviewInTamil1\n",
              "0       408  ...  [த, ம, ழ,  , ச, ன, ம, வ, ல,  , ஒ, ர,  , ச, ல, ...\n",
              "1       107  ...  [க, ர,  ,  , ச, ன, ம,  , ப, ட, ப, ப, ட, ப, ப, ...\n",
              "2       319  ...  [த, ம, ழ,  , ச, ன, ம, வ, ல,  , த, ற, ப, த,  , ...\n",
              "3       484  ...  [உ, ல, க,  , அ, ள, வ, ல,  , அ, ன, த, த,  , த, ...\n",
              "4       204  ...  [க, ர,  ,  , வ, ல, ல, ன, ன,  , க, ய, ள,  ,  , ...\n",
              "\n",
              "[5 rows x 4 columns]"
            ]
          },
          "metadata": {
            "tags": []
          },
          "execution_count": 12
        }
      ]
    },
    {
      "cell_type": "code",
      "metadata": {
        "id": "eSrVxK5wGctR",
        "colab_type": "code",
        "outputId": "3531af4d-2ced-427e-a6c4-3bf2e0be7041",
        "colab": {
          "base_uri": "https://localhost:8080/",
          "height": 171
        }
      },
      "source": [
        "from keras.preprocessing.text import Tokenizer\n",
        "from keras.preprocessing.sequence import pad_sequences\n",
        "from keras.layers import Dense , Input , LSTM , Embedding, Dropout , Activation, GRU, Flatten\n",
        "from keras.layers import Bidirectional, GlobalMaxPool1D\n",
        "from keras.models import Model, Sequential\n",
        "from keras.layers import Convolution1D\n",
        "from keras import initializers, regularizers, constraints, optimizers, layers\n",
        "max_features = 6000\n",
        "tokenizer = Tokenizer(num_words=max_features)\n",
        "scaler=StandardScaler()\n",
        "tokenizer.fit_on_texts(df_train['ReviewInTamil1'])\n",
        "list_tokenized_train = tokenizer.texts_to_sequences(df_train['ReviewInTamil1'])\n",
        "\n",
        "tokenizer.fit_on_texts(df_test['ReviewInTamil1'])\n",
        "list_tokenized_test = tokenizer.texts_to_sequences(df_test['ReviewInTamil1'])\n",
        "maxlen = 130\n",
        "\n",
        "X_train = pad_sequences(list_tokenized_train, maxlen=maxlen)\n",
        "#X_train=np.array(scaler.fit_transform(X_train)).reshape(-1,1)\n",
        "y_train = df_train['Rating']\n",
        "#y_train=np.array(scaler.fit_transform(y_train))\n",
        "\n",
        "X_test = pad_sequences(list_tokenized_test, maxlen=maxlen)\n",
        "y_test = df_test['Rating']\n",
        "\n",
        "embed_size = 128\n",
        "model = Sequential()\n",
        "model.add(Embedding(max_features, embed_size))\n",
        "model.add(Bidirectional(LSTM(32, return_sequences = True)))\n",
        "model.add(GlobalMaxPool1D())\n",
        "model.add(Dense(20, activation=\"relu\"))\n",
        "model.add(Dropout(0.05))\n",
        "model.add(Dense(1, activation=\"sigmoid\"))\n",
        "model.compile(loss='mean_squared_error', optimizer='adam', metrics=['mse'])\n",
        "batch_size = 100\n",
        "epochs = 3\n",
        "model.fit(X_train,y_train, batch_size=batch_size, epochs=epochs, validation_split=0.2)"
      ],
      "execution_count": 40,
      "outputs": [
        {
          "output_type": "stream",
          "text": [
            "Train on 384 samples, validate on 96 samples\n",
            "Epoch 1/3\n",
            "384/384 [==============================] - 5s 14ms/step - loss: 5.7596 - mean_squared_error: 5.7596 - val_loss: 5.5925 - val_mean_squared_error: 5.5925\n",
            "Epoch 2/3\n",
            "384/384 [==============================] - 1s 3ms/step - loss: 5.6153 - mean_squared_error: 5.6153 - val_loss: 5.4431 - val_mean_squared_error: 5.4431\n",
            "Epoch 3/3\n",
            "384/384 [==============================] - 1s 3ms/step - loss: 5.4573 - mean_squared_error: 5.4573 - val_loss: 5.2622 - val_mean_squared_error: 5.2622\n"
          ],
          "name": "stdout"
        },
        {
          "output_type": "execute_result",
          "data": {
            "text/plain": [
              "<keras.callbacks.History at 0x7f8b49a60cc0>"
            ]
          },
          "metadata": {
            "tags": []
          },
          "execution_count": 40
        }
      ]
    },
    {
      "cell_type": "code",
      "metadata": {
        "id": "4s_BnYiZ1LpG",
        "colab_type": "code",
        "colab": {
          "base_uri": "https://localhost:8080/",
          "height": 34
        },
        "outputId": "3717fb23-8bc1-46a1-e11c-efd7e2cf8c12"
      },
      "source": [
        "\n",
        "len((np.array(scaler.fit_transform(X_train))))\n"
      ],
      "execution_count": 46,
      "outputs": [
        {
          "output_type": "execute_result",
          "data": {
            "text/plain": [
              "480"
            ]
          },
          "metadata": {
            "tags": []
          },
          "execution_count": 46
        }
      ]
    },
    {
      "cell_type": "code",
      "metadata": {
        "id": "Z0gN4vMIAP3Z",
        "colab_type": "code",
        "colab": {
          "base_uri": "https://localhost:8080/",
          "height": 34
        },
        "outputId": "5289b129-d152-4899-9ea6-ee62db45700e"
      },
      "source": [
        "y_pred=model.predict(X_test)\n",
        "mean_squared_error(y_test,y_pred)"
      ],
      "execution_count": 17,
      "outputs": [
        {
          "output_type": "execute_result",
          "data": {
            "text/plain": [
              "3.7218474126972754"
            ]
          },
          "metadata": {
            "tags": []
          },
          "execution_count": 17
        }
      ]
    }
  ]
}