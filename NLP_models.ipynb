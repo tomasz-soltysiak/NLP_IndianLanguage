{
  "nbformat": 4,
  "nbformat_minor": 0,
  "metadata": {
    "colab": {
      "name": "NLP_models.ipynb",
      "provenance": [],
      "include_colab_link": true
    },
    "kernelspec": {
      "name": "python3",
      "display_name": "Python 3"
    }
  },
  "cells": [
    {
      "cell_type": "markdown",
      "metadata": {
        "id": "view-in-github",
        "colab_type": "text"
      },
      "source": [
        "<a href=\"https://colab.research.google.com/github/tomasz-soltysiak/NLP_IndianLanguage/blob/master/NLP_models.ipynb\" target=\"_parent\"><img src=\"https://colab.research.google.com/assets/colab-badge.svg\" alt=\"Open In Colab\"/></a>"
      ]
    },
    {
      "cell_type": "code",
      "metadata": {
        "id": "wiHmu9MOTzVA",
        "colab_type": "code",
        "colab": {}
      },
      "source": [
        "import matplotlib.patches as mpatches\n",
        "import pandas as pd\n",
        "import matplotlib.pyplot as plt\n",
        "import seaborn as sns\n",
        "import numpy as np\n",
        "from sklearn.preprocessing import RobustScaler, StandardScaler\n",
        "from sklearn.model_selection import train_test_split,StratifiedKFold\n",
        "from sklearn.manifold import TSNE\n",
        "from sklearn.cluster import KMeans\n",
        "from sklearn.decomposition import PCA\n",
        "from sklearn.linear_model import LogisticRegression\n",
        "from sklearn.model_selection import cross_val_score\n",
        "from sklearn.metrics import recall_score, precision_score, f1_score, accuracy_score,roc_curve,confusion_matrix,roc_auc_score\n",
        "from sklearn.ensemble import RandomForestClassifier\n",
        "from sklearn.neighbors import KNeighborsClassifier\n"
      ],
      "execution_count": 0,
      "outputs": []
    },
    {
      "cell_type": "code",
      "metadata": {
        "id": "nMhyqyZJUaNu",
        "colab_type": "code",
        "colab": {
          "base_uri": "https://localhost:8080/",
          "height": 296
        },
        "outputId": "4f691bd1-4689-47de-cd6d-e7025b57aab9"
      },
      "source": [
        "df=pd.read_csv('/content/Tamil_movie_reviews_train2.csv')\n",
        "df.head()"
      ],
      "execution_count": 2,
      "outputs": [
        {
          "output_type": "execute_result",
          "data": {
            "text/html": [
              "<div>\n",
              "<style scoped>\n",
              "    .dataframe tbody tr th:only-of-type {\n",
              "        vertical-align: middle;\n",
              "    }\n",
              "\n",
              "    .dataframe tbody tr th {\n",
              "        vertical-align: top;\n",
              "    }\n",
              "\n",
              "    .dataframe thead th {\n",
              "        text-align: right;\n",
              "    }\n",
              "</style>\n",
              "<table border=\"1\" class=\"dataframe\">\n",
              "  <thead>\n",
              "    <tr style=\"text-align: right;\">\n",
              "      <th></th>\n",
              "      <th>Unnamed: 0</th>\n",
              "      <th>ReviewId</th>\n",
              "      <th>ReviewInTamil</th>\n",
              "      <th>Rating</th>\n",
              "      <th>bag_of_words</th>\n",
              "      <th>wages</th>\n",
              "    </tr>\n",
              "  </thead>\n",
              "  <tbody>\n",
              "    <tr>\n",
              "      <th>0</th>\n",
              "      <td>0</td>\n",
              "      <td>521</td>\n",
              "      <td>லாரன்ஸுக்கும் பேய்க்கும் எப்போதும் ஒரு வெற்றி ...</td>\n",
              "      <td>2.75</td>\n",
              "      <td>(0, 1103)\\t6\\n  (0, 426)\\t2\\n  (0, 476)\\t3\\n...</td>\n",
              "      <td>(0, 448)\\t0.054201212070610044\\n  (0, 563)\\t...</td>\n",
              "    </tr>\n",
              "    <tr>\n",
              "      <th>1</th>\n",
              "      <td>1</td>\n",
              "      <td>266</td>\n",
              "      <td>கரு : இன்றைய சூழலில் சமூக வலைதளங்களால் சமூகத்த...</td>\n",
              "      <td>2.00</td>\n",
              "      <td>(0, 1103)\\t6\\n  (0, 426)\\t2\\n  (0, 476)\\t3\\n...</td>\n",
              "      <td>(0, 448)\\t0.054201212070610044\\n  (0, 563)\\t...</td>\n",
              "    </tr>\n",
              "    <tr>\n",
              "      <th>2</th>\n",
              "      <td>2</td>\n",
              "      <td>127</td>\n",
              "      <td>கதை: வசதியற்ற சாதாரண குடும்பத்தை சேர்ந்த நாயகர...</td>\n",
              "      <td>2.00</td>\n",
              "      <td>(0, 1103)\\t6\\n  (0, 426)\\t2\\n  (0, 476)\\t3\\n...</td>\n",
              "      <td>(0, 448)\\t0.054201212070610044\\n  (0, 563)\\t...</td>\n",
              "    </tr>\n",
              "    <tr>\n",
              "      <th>3</th>\n",
              "      <td>3</td>\n",
              "      <td>528</td>\n",
              "      <td>தமிழ் சினிமாவில் இயக்குனர்களுக்காக ஒரு சிலர் ப...</td>\n",
              "      <td>2.00</td>\n",
              "      <td>(0, 1103)\\t6\\n  (0, 426)\\t2\\n  (0, 476)\\t3\\n...</td>\n",
              "      <td>(0, 448)\\t0.054201212070610044\\n  (0, 563)\\t...</td>\n",
              "    </tr>\n",
              "    <tr>\n",
              "      <th>4</th>\n",
              "      <td>4</td>\n",
              "      <td>260</td>\n",
              "      <td>கரு : 'வேலையில்லா பட்டதாரி' படத்தின் பகுதி - 2...</td>\n",
              "      <td>2.50</td>\n",
              "      <td>(0, 1103)\\t6\\n  (0, 426)\\t2\\n  (0, 476)\\t3\\n...</td>\n",
              "      <td>(0, 448)\\t0.054201212070610044\\n  (0, 563)\\t...</td>\n",
              "    </tr>\n",
              "  </tbody>\n",
              "</table>\n",
              "</div>"
            ],
            "text/plain": [
              "   Unnamed: 0  ...                                              wages\n",
              "0           0  ...    (0, 448)\\t0.054201212070610044\\n  (0, 563)\\t...\n",
              "1           1  ...    (0, 448)\\t0.054201212070610044\\n  (0, 563)\\t...\n",
              "2           2  ...    (0, 448)\\t0.054201212070610044\\n  (0, 563)\\t...\n",
              "3           3  ...    (0, 448)\\t0.054201212070610044\\n  (0, 563)\\t...\n",
              "4           4  ...    (0, 448)\\t0.054201212070610044\\n  (0, 563)\\t...\n",
              "\n",
              "[5 rows x 6 columns]"
            ]
          },
          "metadata": {
            "tags": []
          },
          "execution_count": 2
        }
      ]
    },
    {
      "cell_type": "code",
      "metadata": {
        "id": "p7QW0-ExVQ1-",
        "colab_type": "code",
        "colab": {}
      },
      "source": [
        ""
      ],
      "execution_count": 0,
      "outputs": []
    },
    {
      "cell_type": "code",
      "metadata": {
        "id": "BFvniPeWVRci",
        "colab_type": "code",
        "colab": {
          "base_uri": "https://localhost:8080/",
          "height": 202
        },
        "outputId": "5bc82ea9-bd06-460c-c8e9-7a2eb4cf96b3"
      },
      "source": [
        "df.info()"
      ],
      "execution_count": 3,
      "outputs": [
        {
          "output_type": "stream",
          "text": [
            "<class 'pandas.core.frame.DataFrame'>\n",
            "RangeIndex: 121 entries, 0 to 120\n",
            "Data columns (total 6 columns):\n",
            "Unnamed: 0       121 non-null int64\n",
            "ReviewId         121 non-null int64\n",
            "ReviewInTamil    121 non-null object\n",
            "Rating           121 non-null float64\n",
            "bag_of_words     121 non-null object\n",
            "wages            121 non-null object\n",
            "dtypes: float64(1), int64(2), object(3)\n",
            "memory usage: 5.8+ KB\n"
          ],
          "name": "stdout"
        }
      ]
    },
    {
      "cell_type": "code",
      "metadata": {
        "id": "CJulQxWxVSXn",
        "colab_type": "code",
        "colab": {
          "base_uri": "https://localhost:8080/",
          "height": 296
        },
        "outputId": "7530860c-69dd-4e99-c097-935dcc4c4aba"
      },
      "source": [
        "df['wages']=np.array(df['wages'])\n",
        "df.head()"
      ],
      "execution_count": 10,
      "outputs": [
        {
          "output_type": "execute_result",
          "data": {
            "text/html": [
              "<div>\n",
              "<style scoped>\n",
              "    .dataframe tbody tr th:only-of-type {\n",
              "        vertical-align: middle;\n",
              "    }\n",
              "\n",
              "    .dataframe tbody tr th {\n",
              "        vertical-align: top;\n",
              "    }\n",
              "\n",
              "    .dataframe thead th {\n",
              "        text-align: right;\n",
              "    }\n",
              "</style>\n",
              "<table border=\"1\" class=\"dataframe\">\n",
              "  <thead>\n",
              "    <tr style=\"text-align: right;\">\n",
              "      <th></th>\n",
              "      <th>Unnamed: 0</th>\n",
              "      <th>ReviewId</th>\n",
              "      <th>ReviewInTamil</th>\n",
              "      <th>Rating</th>\n",
              "      <th>bag_of_words</th>\n",
              "      <th>wages</th>\n",
              "    </tr>\n",
              "  </thead>\n",
              "  <tbody>\n",
              "    <tr>\n",
              "      <th>0</th>\n",
              "      <td>0</td>\n",
              "      <td>521</td>\n",
              "      <td>லாரன்ஸுக்கும் பேய்க்கும் எப்போதும் ஒரு வெற்றி ...</td>\n",
              "      <td>2.75</td>\n",
              "      <td>(0, 1103)\\t6\\n  (0, 426)\\t2\\n  (0, 476)\\t3\\n...</td>\n",
              "      <td>(0, 448)\\t0.054201212070610044\\n  (0, 563)\\t...</td>\n",
              "    </tr>\n",
              "    <tr>\n",
              "      <th>1</th>\n",
              "      <td>1</td>\n",
              "      <td>266</td>\n",
              "      <td>கரு : இன்றைய சூழலில் சமூக வலைதளங்களால் சமூகத்த...</td>\n",
              "      <td>2.00</td>\n",
              "      <td>(0, 1103)\\t6\\n  (0, 426)\\t2\\n  (0, 476)\\t3\\n...</td>\n",
              "      <td>(0, 448)\\t0.054201212070610044\\n  (0, 563)\\t...</td>\n",
              "    </tr>\n",
              "    <tr>\n",
              "      <th>2</th>\n",
              "      <td>2</td>\n",
              "      <td>127</td>\n",
              "      <td>கதை: வசதியற்ற சாதாரண குடும்பத்தை சேர்ந்த நாயகர...</td>\n",
              "      <td>2.00</td>\n",
              "      <td>(0, 1103)\\t6\\n  (0, 426)\\t2\\n  (0, 476)\\t3\\n...</td>\n",
              "      <td>(0, 448)\\t0.054201212070610044\\n  (0, 563)\\t...</td>\n",
              "    </tr>\n",
              "    <tr>\n",
              "      <th>3</th>\n",
              "      <td>3</td>\n",
              "      <td>528</td>\n",
              "      <td>தமிழ் சினிமாவில் இயக்குனர்களுக்காக ஒரு சிலர் ப...</td>\n",
              "      <td>2.00</td>\n",
              "      <td>(0, 1103)\\t6\\n  (0, 426)\\t2\\n  (0, 476)\\t3\\n...</td>\n",
              "      <td>(0, 448)\\t0.054201212070610044\\n  (0, 563)\\t...</td>\n",
              "    </tr>\n",
              "    <tr>\n",
              "      <th>4</th>\n",
              "      <td>4</td>\n",
              "      <td>260</td>\n",
              "      <td>கரு : 'வேலையில்லா பட்டதாரி' படத்தின் பகுதி - 2...</td>\n",
              "      <td>2.50</td>\n",
              "      <td>(0, 1103)\\t6\\n  (0, 426)\\t2\\n  (0, 476)\\t3\\n...</td>\n",
              "      <td>(0, 448)\\t0.054201212070610044\\n  (0, 563)\\t...</td>\n",
              "    </tr>\n",
              "  </tbody>\n",
              "</table>\n",
              "</div>"
            ],
            "text/plain": [
              "   Unnamed: 0  ...                                              wages\n",
              "0           0  ...    (0, 448)\\t0.054201212070610044\\n  (0, 563)\\t...\n",
              "1           1  ...    (0, 448)\\t0.054201212070610044\\n  (0, 563)\\t...\n",
              "2           2  ...    (0, 448)\\t0.054201212070610044\\n  (0, 563)\\t...\n",
              "3           3  ...    (0, 448)\\t0.054201212070610044\\n  (0, 563)\\t...\n",
              "4           4  ...    (0, 448)\\t0.054201212070610044\\n  (0, 563)\\t...\n",
              "\n",
              "[5 rows x 6 columns]"
            ]
          },
          "metadata": {
            "tags": []
          },
          "execution_count": 10
        }
      ]
    },
    {
      "cell_type": "code",
      "metadata": {
        "id": "CTKl9q-VVbHN",
        "colab_type": "code",
        "colab": {}
      },
      "source": [
        ""
      ],
      "execution_count": 0,
      "outputs": []
    }
  ]
}